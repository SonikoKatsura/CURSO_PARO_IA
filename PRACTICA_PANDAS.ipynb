{
 "cells": [
  {
   "cell_type": "markdown",
   "id": "fb198bf0-93c9-4181-b275-55ccb9c16015",
   "metadata": {
    "id": "fb198bf0-93c9-4181-b275-55ccb9c16015"
   },
   "source": [
    "# PRÁCTICA PANDAS"
   ]
  },
  {
   "cell_type": "markdown",
   "id": "5c49cbbc-79f7-482f-b08f-964408a5860e",
   "metadata": {
    "id": "5c49cbbc-79f7-482f-b08f-964408a5860e"
   },
   "source": [
    "Vamos a trabajar con un **conjunto de datos público \"adults\"** con datos del censo de los Estados Unidos, que contiene distintas variables de la población. El fin que se busca es el de clasificar las observaciones segun la variable Ingresos (income), variable dicotómica que indica si son menores o iguales a 50000 $ o bien superiores (“<=50K” o \">50K)."
   ]
  },
  {
   "cell_type": "markdown",
   "id": "344200c9-9aa0-4d4a-b44b-544dba4c8d6c",
   "metadata": {
    "id": "344200c9-9aa0-4d4a-b44b-544dba4c8d6c"
   },
   "source": [
    "Nosotros en este punto del curso **como práctica de la librería \"Pandas\" que acabamos de ver, vamos simplemente a echarle un vistazo y a corregir y mejorar algunos aspectos del mismo.**\n",
    "\n",
    "Los **datos** se encuentran en el archivo **\"adult.data\"**. **Necesitamos también examinar el archivo \"adult.names\" que describe el dataset para poder cargar los datos correctamente.**"
   ]
  },
  {
   "cell_type": "markdown",
   "id": "e074771a-3ff2-424c-a540-85a6ae967ee3",
   "metadata": {
    "id": "e074771a-3ff2-424c-a540-85a6ae967ee3"
   },
   "source": [
    "## CARGA DE LOS DATOS"
   ]
  },
  {
   "cell_type": "code",
   "execution_count": 1,
   "id": "00700876-9457-42be-809e-9d7d337b69eb",
   "metadata": {
    "id": "00700876-9457-42be-809e-9d7d337b69eb"
   },
   "outputs": [],
   "source": [
    "import numpy as np\n",
    "import pandas as pd\n",
    "\n",
    "import matplotlib.pyplot as plt\n",
    "%matplotlib inline\n",
    "\n",
    "\n",
    "import warnings\n",
    "warnings.filterwarnings(\"ignore\", category=DeprecationWarning)"
   ]
  },
  {
   "cell_type": "code",
   "execution_count": null,
   "id": "320diZ1D6lqW",
   "metadata": {
    "id": "320diZ1D6lqW"
   },
   "outputs": [],
   "source": []
  },
  {
   "cell_type": "code",
   "execution_count": null,
   "id": "-3aroUi26lPc",
   "metadata": {
    "id": "-3aroUi26lPc"
   },
   "outputs": [],
   "source": []
  },
  {
   "cell_type": "code",
   "execution_count": 2,
   "id": "ea3b4ec6-faea-4e3d-91e0-d438d3743af3",
   "metadata": {
    "id": "ea3b4ec6-faea-4e3d-91e0-d438d3743af3"
   },
   "outputs": [],
   "source": [
    "df_adult = pd.read_csv('./adult.data', \\\n",
    "                       header= None, \\\n",
    "                       names = ['age', 'workclass', 'fnlwgt', 'education', 'education-num', 'marital-status','occupation', \\\n",
    "                                'relationship', 'race', 'sex','capital-gain', 'capital-loss', 'hours-per-week', \\\n",
    "                                'native-country', 'income'])\n"
   ]
  },
  {
   "cell_type": "code",
   "execution_count": 3,
   "id": "f912af0c-f530-41a4-b760-fd39c7a70cfa",
   "metadata": {},
   "outputs": [
    {
     "data": {
      "text/html": [
       "<div>\n",
       "<style scoped>\n",
       "    .dataframe tbody tr th:only-of-type {\n",
       "        vertical-align: middle;\n",
       "    }\n",
       "\n",
       "    .dataframe tbody tr th {\n",
       "        vertical-align: top;\n",
       "    }\n",
       "\n",
       "    .dataframe thead th {\n",
       "        text-align: right;\n",
       "    }\n",
       "</style>\n",
       "<table border=\"1\" class=\"dataframe\">\n",
       "  <thead>\n",
       "    <tr style=\"text-align: right;\">\n",
       "      <th></th>\n",
       "      <th>age</th>\n",
       "      <th>workclass</th>\n",
       "      <th>fnlwgt</th>\n",
       "      <th>education</th>\n",
       "      <th>education-num</th>\n",
       "      <th>marital-status</th>\n",
       "      <th>occupation</th>\n",
       "      <th>relationship</th>\n",
       "      <th>race</th>\n",
       "      <th>sex</th>\n",
       "      <th>capital-gain</th>\n",
       "      <th>capital-loss</th>\n",
       "      <th>hours-per-week</th>\n",
       "      <th>native-country</th>\n",
       "      <th>income</th>\n",
       "    </tr>\n",
       "  </thead>\n",
       "  <tbody>\n",
       "    <tr>\n",
       "      <th>0</th>\n",
       "      <td>39</td>\n",
       "      <td>State-gov</td>\n",
       "      <td>77516</td>\n",
       "      <td>Bachelors</td>\n",
       "      <td>13</td>\n",
       "      <td>Never-married</td>\n",
       "      <td>Adm-clerical</td>\n",
       "      <td>Not-in-family</td>\n",
       "      <td>White</td>\n",
       "      <td>Male</td>\n",
       "      <td>2174</td>\n",
       "      <td>0</td>\n",
       "      <td>40</td>\n",
       "      <td>United-States</td>\n",
       "      <td>&lt;=50K</td>\n",
       "    </tr>\n",
       "    <tr>\n",
       "      <th>1</th>\n",
       "      <td>50</td>\n",
       "      <td>Self-emp-not-inc</td>\n",
       "      <td>83311</td>\n",
       "      <td>Bachelors</td>\n",
       "      <td>13</td>\n",
       "      <td>Married-civ-spouse</td>\n",
       "      <td>Exec-managerial</td>\n",
       "      <td>Husband</td>\n",
       "      <td>White</td>\n",
       "      <td>Male</td>\n",
       "      <td>0</td>\n",
       "      <td>0</td>\n",
       "      <td>13</td>\n",
       "      <td>United-States</td>\n",
       "      <td>&lt;=50K</td>\n",
       "    </tr>\n",
       "    <tr>\n",
       "      <th>2</th>\n",
       "      <td>38</td>\n",
       "      <td>Private</td>\n",
       "      <td>215646</td>\n",
       "      <td>HS-grad</td>\n",
       "      <td>9</td>\n",
       "      <td>Divorced</td>\n",
       "      <td>Handlers-cleaners</td>\n",
       "      <td>Not-in-family</td>\n",
       "      <td>White</td>\n",
       "      <td>Male</td>\n",
       "      <td>0</td>\n",
       "      <td>0</td>\n",
       "      <td>40</td>\n",
       "      <td>United-States</td>\n",
       "      <td>&lt;=50K</td>\n",
       "    </tr>\n",
       "    <tr>\n",
       "      <th>3</th>\n",
       "      <td>53</td>\n",
       "      <td>Private</td>\n",
       "      <td>234721</td>\n",
       "      <td>11th</td>\n",
       "      <td>7</td>\n",
       "      <td>Married-civ-spouse</td>\n",
       "      <td>Handlers-cleaners</td>\n",
       "      <td>Husband</td>\n",
       "      <td>Black</td>\n",
       "      <td>Male</td>\n",
       "      <td>0</td>\n",
       "      <td>0</td>\n",
       "      <td>40</td>\n",
       "      <td>United-States</td>\n",
       "      <td>&lt;=50K</td>\n",
       "    </tr>\n",
       "    <tr>\n",
       "      <th>4</th>\n",
       "      <td>28</td>\n",
       "      <td>Private</td>\n",
       "      <td>338409</td>\n",
       "      <td>Bachelors</td>\n",
       "      <td>13</td>\n",
       "      <td>Married-civ-spouse</td>\n",
       "      <td>Prof-specialty</td>\n",
       "      <td>Wife</td>\n",
       "      <td>Black</td>\n",
       "      <td>Female</td>\n",
       "      <td>0</td>\n",
       "      <td>0</td>\n",
       "      <td>40</td>\n",
       "      <td>Cuba</td>\n",
       "      <td>&lt;=50K</td>\n",
       "    </tr>\n",
       "  </tbody>\n",
       "</table>\n",
       "</div>"
      ],
      "text/plain": [
       "   age          workclass  fnlwgt   education  education-num  \\\n",
       "0   39          State-gov   77516   Bachelors             13   \n",
       "1   50   Self-emp-not-inc   83311   Bachelors             13   \n",
       "2   38            Private  215646     HS-grad              9   \n",
       "3   53            Private  234721        11th              7   \n",
       "4   28            Private  338409   Bachelors             13   \n",
       "\n",
       "        marital-status          occupation    relationship    race      sex  \\\n",
       "0        Never-married        Adm-clerical   Not-in-family   White     Male   \n",
       "1   Married-civ-spouse     Exec-managerial         Husband   White     Male   \n",
       "2             Divorced   Handlers-cleaners   Not-in-family   White     Male   \n",
       "3   Married-civ-spouse   Handlers-cleaners         Husband   Black     Male   \n",
       "4   Married-civ-spouse      Prof-specialty            Wife   Black   Female   \n",
       "\n",
       "   capital-gain  capital-loss  hours-per-week  native-country  income  \n",
       "0          2174             0              40   United-States   <=50K  \n",
       "1             0             0              13   United-States   <=50K  \n",
       "2             0             0              40   United-States   <=50K  \n",
       "3             0             0              40   United-States   <=50K  \n",
       "4             0             0              40            Cuba   <=50K  "
      ]
     },
     "execution_count": 3,
     "metadata": {},
     "output_type": "execute_result"
    }
   ],
   "source": [
    "df_adult.head()"
   ]
  },
  {
   "cell_type": "code",
   "execution_count": null,
   "id": "ab18eb78-7760-4fa0-b289-bafac97d0d5b",
   "metadata": {},
   "outputs": [],
   "source": []
  },
  {
   "cell_type": "code",
   "execution_count": 4,
   "id": "bd0238ab-39d9-423d-88c5-8e35744f40a0",
   "metadata": {},
   "outputs": [
    {
     "data": {
      "text/plain": [
       "Index(['age', 'workclass', 'fnlwgt', 'education', 'education-num',\n",
       "       'marital-status', 'occupation', 'relationship', 'race', 'sex',\n",
       "       'capital-gain', 'capital-loss', 'hours-per-week', 'native-country',\n",
       "       'income'],\n",
       "      dtype='object')"
      ]
     },
     "execution_count": 4,
     "metadata": {},
     "output_type": "execute_result"
    }
   ],
   "source": [
    "df_adult.columns"
   ]
  },
  {
   "cell_type": "code",
   "execution_count": 5,
   "id": "5f72d38a-5eed-43dd-a708-1d3fd99442b0",
   "metadata": {},
   "outputs": [],
   "source": [
    " # EJEMPLO SUSTITUIR UN CARACTER (espacio en blanco, guion medio) en los \n",
    "# NOMBRES DE COLUMNAS\n",
    "\n",
    "df_adult.columns = [elemento.replace(\"-\",\"_\") for elemento in df_adult.columns.to_list()]"
   ]
  },
  {
   "cell_type": "code",
   "execution_count": 6,
   "id": "df772a01-04a3-49e2-932c-9198f6ad0b35",
   "metadata": {},
   "outputs": [
    {
     "data": {
      "text/plain": [
       "Index(['age', 'workclass', 'fnlwgt', 'education', 'education_num',\n",
       "       'marital_status', 'occupation', 'relationship', 'race', 'sex',\n",
       "       'capital_gain', 'capital_loss', 'hours_per_week', 'native_country',\n",
       "       'income'],\n",
       "      dtype='object')"
      ]
     },
     "execution_count": 6,
     "metadata": {},
     "output_type": "execute_result"
    }
   ],
   "source": [
    "df_adult.columns"
   ]
  },
  {
   "cell_type": "code",
   "execution_count": null,
   "id": "34bc3635-b5f0-405c-a49f-accfdeecd133",
   "metadata": {},
   "outputs": [],
   "source": []
  },
  {
   "cell_type": "markdown",
   "id": "191e47f4-547b-4221-8704-995c4cf872cd",
   "metadata": {
    "id": "191e47f4-547b-4221-8704-995c4cf872cd"
   },
   "source": [
    "## EXPLORAR DATAFRAME"
   ]
  },
  {
   "cell_type": "code",
   "execution_count": 7,
   "id": "21670eb3-1e68-4f36-b937-fba46eed4e93",
   "metadata": {
    "colab": {
     "base_uri": "https://localhost:8080/"
    },
    "id": "21670eb3-1e68-4f36-b937-fba46eed4e93",
    "outputId": "e564f211-6110-4953-bbf6-94c82c6dcd98"
   },
   "outputs": [
    {
     "name": "stdout",
     "output_type": "stream",
     "text": [
      "<class 'pandas.core.frame.DataFrame'>\n",
      "RangeIndex: 32561 entries, 0 to 32560\n",
      "Data columns (total 15 columns):\n",
      " #   Column          Non-Null Count  Dtype \n",
      "---  ------          --------------  ----- \n",
      " 0   age             32561 non-null  int64 \n",
      " 1   workclass       32561 non-null  object\n",
      " 2   fnlwgt          32561 non-null  int64 \n",
      " 3   education       32561 non-null  object\n",
      " 4   education_num   32561 non-null  int64 \n",
      " 5   marital_status  32561 non-null  object\n",
      " 6   occupation      32561 non-null  object\n",
      " 7   relationship    32561 non-null  object\n",
      " 8   race            32561 non-null  object\n",
      " 9   sex             32561 non-null  object\n",
      " 10  capital_gain    32561 non-null  int64 \n",
      " 11  capital_loss    32561 non-null  int64 \n",
      " 12  hours_per_week  32561 non-null  int64 \n",
      " 13  native_country  32561 non-null  object\n",
      " 14  income          32561 non-null  object\n",
      "dtypes: int64(6), object(9)\n",
      "memory usage: 3.7+ MB\n"
     ]
    }
   ],
   "source": [
    "df_adult.info()"
   ]
  },
  {
   "cell_type": "code",
   "execution_count": 8,
   "id": "9a050b82-f328-472d-bbc7-965a66511a48",
   "metadata": {},
   "outputs": [
    {
     "name": "stdout",
     "output_type": "stream",
     "text": [
      "<class 'pandas.core.frame.DataFrame'>\n",
      "RangeIndex: 32561 entries, 0 to 32560\n",
      "Data columns (total 15 columns):\n",
      " #   Column          Non-Null Count  Dtype \n",
      "---  ------          --------------  ----- \n",
      " 0   age             32561 non-null  int64 \n",
      " 1   workclass       32561 non-null  object\n",
      " 2   fnlwgt          32561 non-null  int64 \n",
      " 3   education       32561 non-null  object\n",
      " 4   education_num   32561 non-null  object\n",
      " 5   marital_status  32561 non-null  object\n",
      " 6   occupation      32561 non-null  object\n",
      " 7   relationship    32561 non-null  object\n",
      " 8   race            32561 non-null  object\n",
      " 9   sex             32561 non-null  object\n",
      " 10  capital_gain    32561 non-null  int64 \n",
      " 11  capital_loss    32561 non-null  int64 \n",
      " 12  hours_per_week  32561 non-null  int64 \n",
      " 13  native_country  32561 non-null  object\n",
      " 14  income          32561 non-null  object\n",
      "dtypes: int64(5), object(10)\n",
      "memory usage: 3.7+ MB\n"
     ]
    }
   ],
   "source": [
    "#contenido nuevo: cambio de tipo\n",
    "df_adult['education_num'] = df_adult['education_num'].astype('str')\n",
    "\n",
    "df_adult.info()"
   ]
  },
  {
   "cell_type": "code",
   "execution_count": null,
   "id": "b74d03a7-ac10-47a9-ac59-6db3e00c6de9",
   "metadata": {
    "id": "b74d03a7-ac10-47a9-ac59-6db3e00c6de9"
   },
   "outputs": [],
   "source": []
  },
  {
   "cell_type": "markdown",
   "id": "8f41b574-72b6-4e50-a2fc-3f5164fc844a",
   "metadata": {
    "id": "8f41b574-72b6-4e50-a2fc-3f5164fc844a"
   },
   "source": [
    "**Para manejar más fácil los datos suele ser util separar las variables por tipo:**"
   ]
  },
  {
   "cell_type": "code",
   "execution_count": 9,
   "id": "925aad05-18a2-406f-b136-d0bdf2f2f673",
   "metadata": {
    "colab": {
     "base_uri": "https://localhost:8080/"
    },
    "id": "925aad05-18a2-406f-b136-d0bdf2f2f673",
    "outputId": "86b6128a-3d66-434e-9879-3f5a7c06d466"
   },
   "outputs": [
    {
     "data": {
      "text/plain": [
       "['age', 'fnlwgt', 'capital_gain', 'capital_loss', 'hours_per_week']"
      ]
     },
     "execution_count": 9,
     "metadata": {},
     "output_type": "execute_result"
    }
   ],
   "source": [
    "variables_continuas = df_adult.select_dtypes(exclude=['object']).columns.to_list()\n",
    "\n",
    "variables_continuas\n",
    "\n"
   ]
  },
  {
   "cell_type": "code",
   "execution_count": 10,
   "id": "32811dff-e40e-4298-bc94-95bbdc1566bd",
   "metadata": {
    "colab": {
     "base_uri": "https://localhost:8080/"
    },
    "id": "32811dff-e40e-4298-bc94-95bbdc1566bd",
    "outputId": "43ea6bd1-bd61-44b1-87e0-0698ca855e8c"
   },
   "outputs": [
    {
     "data": {
      "text/plain": [
       "['workclass',\n",
       " 'education',\n",
       " 'education_num',\n",
       " 'marital_status',\n",
       " 'occupation',\n",
       " 'relationship',\n",
       " 'race',\n",
       " 'sex',\n",
       " 'native_country',\n",
       " 'income']"
      ]
     },
     "execution_count": 10,
     "metadata": {},
     "output_type": "execute_result"
    }
   ],
   "source": [
    "variables_discretas = df_adult.select_dtypes(include=['object']).columns.to_list()\n",
    "\n",
    "variables_discretas"
   ]
  },
  {
   "cell_type": "code",
   "execution_count": null,
   "id": "a75856da-dae2-42cd-89bd-ef735647f0c9",
   "metadata": {
    "id": "a75856da-dae2-42cd-89bd-ef735647f0c9"
   },
   "outputs": [],
   "source": []
  },
  {
   "cell_type": "code",
   "execution_count": 11,
   "id": "9613f1e0-8efa-4677-8b48-f39d7fa139da",
   "metadata": {
    "colab": {
     "base_uri": "https://localhost:8080/",
     "height": 300
    },
    "id": "9613f1e0-8efa-4677-8b48-f39d7fa139da",
    "outputId": "02d29006-d1d1-4e97-e7df-94e0b147330b"
   },
   "outputs": [
    {
     "data": {
      "text/html": [
       "<div>\n",
       "<style scoped>\n",
       "    .dataframe tbody tr th:only-of-type {\n",
       "        vertical-align: middle;\n",
       "    }\n",
       "\n",
       "    .dataframe tbody tr th {\n",
       "        vertical-align: top;\n",
       "    }\n",
       "\n",
       "    .dataframe thead th {\n",
       "        text-align: right;\n",
       "    }\n",
       "</style>\n",
       "<table border=\"1\" class=\"dataframe\">\n",
       "  <thead>\n",
       "    <tr style=\"text-align: right;\">\n",
       "      <th></th>\n",
       "      <th>age</th>\n",
       "      <th>fnlwgt</th>\n",
       "      <th>capital_gain</th>\n",
       "      <th>capital_loss</th>\n",
       "      <th>hours_per_week</th>\n",
       "    </tr>\n",
       "  </thead>\n",
       "  <tbody>\n",
       "    <tr>\n",
       "      <th>count</th>\n",
       "      <td>32561.000000</td>\n",
       "      <td>3.256100e+04</td>\n",
       "      <td>32561.000000</td>\n",
       "      <td>32561.000000</td>\n",
       "      <td>32561.000000</td>\n",
       "    </tr>\n",
       "    <tr>\n",
       "      <th>mean</th>\n",
       "      <td>38.581647</td>\n",
       "      <td>1.897784e+05</td>\n",
       "      <td>1077.648844</td>\n",
       "      <td>87.303830</td>\n",
       "      <td>40.437456</td>\n",
       "    </tr>\n",
       "    <tr>\n",
       "      <th>std</th>\n",
       "      <td>13.640433</td>\n",
       "      <td>1.055500e+05</td>\n",
       "      <td>7385.292085</td>\n",
       "      <td>402.960219</td>\n",
       "      <td>12.347429</td>\n",
       "    </tr>\n",
       "    <tr>\n",
       "      <th>min</th>\n",
       "      <td>17.000000</td>\n",
       "      <td>1.228500e+04</td>\n",
       "      <td>0.000000</td>\n",
       "      <td>0.000000</td>\n",
       "      <td>1.000000</td>\n",
       "    </tr>\n",
       "    <tr>\n",
       "      <th>25%</th>\n",
       "      <td>28.000000</td>\n",
       "      <td>1.178270e+05</td>\n",
       "      <td>0.000000</td>\n",
       "      <td>0.000000</td>\n",
       "      <td>40.000000</td>\n",
       "    </tr>\n",
       "    <tr>\n",
       "      <th>50%</th>\n",
       "      <td>37.000000</td>\n",
       "      <td>1.783560e+05</td>\n",
       "      <td>0.000000</td>\n",
       "      <td>0.000000</td>\n",
       "      <td>40.000000</td>\n",
       "    </tr>\n",
       "    <tr>\n",
       "      <th>75%</th>\n",
       "      <td>48.000000</td>\n",
       "      <td>2.370510e+05</td>\n",
       "      <td>0.000000</td>\n",
       "      <td>0.000000</td>\n",
       "      <td>45.000000</td>\n",
       "    </tr>\n",
       "    <tr>\n",
       "      <th>max</th>\n",
       "      <td>90.000000</td>\n",
       "      <td>1.484705e+06</td>\n",
       "      <td>99999.000000</td>\n",
       "      <td>4356.000000</td>\n",
       "      <td>99.000000</td>\n",
       "    </tr>\n",
       "  </tbody>\n",
       "</table>\n",
       "</div>"
      ],
      "text/plain": [
       "                age        fnlwgt  capital_gain  capital_loss  hours_per_week\n",
       "count  32561.000000  3.256100e+04  32561.000000  32561.000000    32561.000000\n",
       "mean      38.581647  1.897784e+05   1077.648844     87.303830       40.437456\n",
       "std       13.640433  1.055500e+05   7385.292085    402.960219       12.347429\n",
       "min       17.000000  1.228500e+04      0.000000      0.000000        1.000000\n",
       "25%       28.000000  1.178270e+05      0.000000      0.000000       40.000000\n",
       "50%       37.000000  1.783560e+05      0.000000      0.000000       40.000000\n",
       "75%       48.000000  2.370510e+05      0.000000      0.000000       45.000000\n",
       "max       90.000000  1.484705e+06  99999.000000   4356.000000       99.000000"
      ]
     },
     "execution_count": 11,
     "metadata": {},
     "output_type": "execute_result"
    }
   ],
   "source": [
    "df_adult.describe()"
   ]
  },
  {
   "cell_type": "code",
   "execution_count": 12,
   "id": "8bcad9cb-59d2-4d21-85d4-30876234522c",
   "metadata": {
    "colab": {
     "base_uri": "https://localhost:8080/",
     "height": 174
    },
    "id": "8bcad9cb-59d2-4d21-85d4-30876234522c",
    "outputId": "324b5115-ac52-43fd-bc88-40ddccea5078"
   },
   "outputs": [
    {
     "data": {
      "text/html": [
       "<div>\n",
       "<style scoped>\n",
       "    .dataframe tbody tr th:only-of-type {\n",
       "        vertical-align: middle;\n",
       "    }\n",
       "\n",
       "    .dataframe tbody tr th {\n",
       "        vertical-align: top;\n",
       "    }\n",
       "\n",
       "    .dataframe thead th {\n",
       "        text-align: right;\n",
       "    }\n",
       "</style>\n",
       "<table border=\"1\" class=\"dataframe\">\n",
       "  <thead>\n",
       "    <tr style=\"text-align: right;\">\n",
       "      <th></th>\n",
       "      <th>workclass</th>\n",
       "      <th>education</th>\n",
       "      <th>education_num</th>\n",
       "      <th>marital_status</th>\n",
       "      <th>occupation</th>\n",
       "      <th>relationship</th>\n",
       "      <th>race</th>\n",
       "      <th>sex</th>\n",
       "      <th>native_country</th>\n",
       "      <th>income</th>\n",
       "    </tr>\n",
       "  </thead>\n",
       "  <tbody>\n",
       "    <tr>\n",
       "      <th>count</th>\n",
       "      <td>32561</td>\n",
       "      <td>32561</td>\n",
       "      <td>32561</td>\n",
       "      <td>32561</td>\n",
       "      <td>32561</td>\n",
       "      <td>32561</td>\n",
       "      <td>32561</td>\n",
       "      <td>32561</td>\n",
       "      <td>32561</td>\n",
       "      <td>32561</td>\n",
       "    </tr>\n",
       "    <tr>\n",
       "      <th>unique</th>\n",
       "      <td>9</td>\n",
       "      <td>16</td>\n",
       "      <td>16</td>\n",
       "      <td>7</td>\n",
       "      <td>15</td>\n",
       "      <td>6</td>\n",
       "      <td>5</td>\n",
       "      <td>2</td>\n",
       "      <td>42</td>\n",
       "      <td>2</td>\n",
       "    </tr>\n",
       "    <tr>\n",
       "      <th>top</th>\n",
       "      <td>Private</td>\n",
       "      <td>HS-grad</td>\n",
       "      <td>9</td>\n",
       "      <td>Married-civ-spouse</td>\n",
       "      <td>Prof-specialty</td>\n",
       "      <td>Husband</td>\n",
       "      <td>White</td>\n",
       "      <td>Male</td>\n",
       "      <td>United-States</td>\n",
       "      <td>&lt;=50K</td>\n",
       "    </tr>\n",
       "    <tr>\n",
       "      <th>freq</th>\n",
       "      <td>22696</td>\n",
       "      <td>10501</td>\n",
       "      <td>10501</td>\n",
       "      <td>14976</td>\n",
       "      <td>4140</td>\n",
       "      <td>13193</td>\n",
       "      <td>27816</td>\n",
       "      <td>21790</td>\n",
       "      <td>29170</td>\n",
       "      <td>24720</td>\n",
       "    </tr>\n",
       "  </tbody>\n",
       "</table>\n",
       "</div>"
      ],
      "text/plain": [
       "       workclass education education_num       marital_status  \\\n",
       "count      32561     32561         32561                32561   \n",
       "unique         9        16            16                    7   \n",
       "top      Private   HS-grad             9   Married-civ-spouse   \n",
       "freq       22696     10501         10501                14976   \n",
       "\n",
       "             occupation relationship    race    sex  native_country  income  \n",
       "count             32561        32561   32561  32561           32561   32561  \n",
       "unique               15            6       5      2              42       2  \n",
       "top      Prof-specialty      Husband   White   Male   United-States   <=50K  \n",
       "freq               4140        13193   27816  21790           29170   24720  "
      ]
     },
     "execution_count": 12,
     "metadata": {},
     "output_type": "execute_result"
    }
   ],
   "source": [
    "df_adult.describe(include=['object'])"
   ]
  },
  {
   "cell_type": "code",
   "execution_count": null,
   "id": "1af8f310-e878-4f01-af93-38c6aec6624e",
   "metadata": {
    "id": "1af8f310-e878-4f01-af93-38c6aec6624e"
   },
   "outputs": [],
   "source": []
  },
  {
   "cell_type": "code",
   "execution_count": 13,
   "id": "W_VtgtBBDIMM",
   "metadata": {
    "colab": {
     "base_uri": "https://localhost:8080/"
    },
    "id": "W_VtgtBBDIMM",
    "outputId": "b974ddf4-7ce5-4ba1-d9c9-fa814433c149"
   },
   "outputs": [
    {
     "data": {
      "text/plain": [
       "['workclass',\n",
       " 'education',\n",
       " 'education_num',\n",
       " 'marital_status',\n",
       " 'occupation',\n",
       " 'relationship',\n",
       " 'race',\n",
       " 'sex',\n",
       " 'native_country',\n",
       " 'income']"
      ]
     },
     "execution_count": 13,
     "metadata": {},
     "output_type": "execute_result"
    }
   ],
   "source": [
    "variables_discretas"
   ]
  },
  {
   "cell_type": "code",
   "execution_count": 14,
   "id": "2cb37e37-69ce-40a8-87de-fc539ee84cac",
   "metadata": {
    "colab": {
     "base_uri": "https://localhost:8080/"
    },
    "id": "2cb37e37-69ce-40a8-87de-fc539ee84cac",
    "outputId": "0fae410e-d7d1-4c51-fc2e-6288e954172c"
   },
   "outputs": [
    {
     "name": "stdout",
     "output_type": "stream",
     "text": [
      "Variable WORKCLASS:\n",
      "Valores unicos: \n",
      "[' State-gov' ' Self-emp-not-inc' ' Private' ' Federal-gov' ' Local-gov'\n",
      " ' ?' ' Self-emp-inc' ' Without-pay' ' Never-worked']\n",
      "\n",
      " Private             22696\n",
      " Self-emp-not-inc     2541\n",
      " Local-gov            2093\n",
      " ?                    1836\n",
      " State-gov            1298\n",
      " Self-emp-inc         1116\n",
      " Federal-gov           960\n",
      " Without-pay            14\n",
      " Never-worked            7\n",
      "Name: workclass, dtype: int64\n",
      "\n",
      "Variable EDUCATION:\n",
      "Valores unicos: \n",
      "[' Bachelors' ' HS-grad' ' 11th' ' Masters' ' 9th' ' Some-college'\n",
      " ' Assoc-acdm' ' Assoc-voc' ' 7th-8th' ' Doctorate' ' Prof-school'\n",
      " ' 5th-6th' ' 10th' ' 1st-4th' ' Preschool' ' 12th']\n",
      "\n",
      " HS-grad         10501\n",
      " Some-college     7291\n",
      " Bachelors        5355\n",
      " Masters          1723\n",
      " Assoc-voc        1382\n",
      " 11th             1175\n",
      " Assoc-acdm       1067\n",
      " 10th              933\n",
      " 7th-8th           646\n",
      " Prof-school       576\n",
      " 9th               514\n",
      " 12th              433\n",
      " Doctorate         413\n",
      " 5th-6th           333\n",
      " 1st-4th           168\n",
      " Preschool          51\n",
      "Name: education, dtype: int64\n",
      "\n",
      "Variable EDUCATION_NUM:\n",
      "Valores unicos: \n",
      "['13' '9' '7' '14' '5' '10' '12' '11' '4' '16' '15' '3' '6' '2' '1' '8']\n",
      "\n",
      "9     10501\n",
      "10     7291\n",
      "13     5355\n",
      "14     1723\n",
      "11     1382\n",
      "7      1175\n",
      "12     1067\n",
      "6       933\n",
      "4       646\n",
      "15      576\n",
      "5       514\n",
      "8       433\n",
      "16      413\n",
      "3       333\n",
      "2       168\n",
      "1        51\n",
      "Name: education_num, dtype: int64\n",
      "\n",
      "Variable MARITAL_STATUS:\n",
      "Valores unicos: \n",
      "[' Never-married' ' Married-civ-spouse' ' Divorced'\n",
      " ' Married-spouse-absent' ' Separated' ' Married-AF-spouse' ' Widowed']\n",
      "\n",
      " Married-civ-spouse       14976\n",
      " Never-married            10683\n",
      " Divorced                  4443\n",
      " Separated                 1025\n",
      " Widowed                    993\n",
      " Married-spouse-absent      418\n",
      " Married-AF-spouse           23\n",
      "Name: marital_status, dtype: int64\n",
      "\n",
      "Variable OCCUPATION:\n",
      "Valores unicos: \n",
      "[' Adm-clerical' ' Exec-managerial' ' Handlers-cleaners' ' Prof-specialty'\n",
      " ' Other-service' ' Sales' ' Craft-repair' ' Transport-moving'\n",
      " ' Farming-fishing' ' Machine-op-inspct' ' Tech-support' ' ?'\n",
      " ' Protective-serv' ' Armed-Forces' ' Priv-house-serv']\n",
      "\n",
      " Prof-specialty       4140\n",
      " Craft-repair         4099\n",
      " Exec-managerial      4066\n",
      " Adm-clerical         3770\n",
      " Sales                3650\n",
      " Other-service        3295\n",
      " Machine-op-inspct    2002\n",
      " ?                    1843\n",
      " Transport-moving     1597\n",
      " Handlers-cleaners    1370\n",
      " Farming-fishing       994\n",
      " Tech-support          928\n",
      " Protective-serv       649\n",
      " Priv-house-serv       149\n",
      " Armed-Forces            9\n",
      "Name: occupation, dtype: int64\n",
      "\n",
      "Variable RELATIONSHIP:\n",
      "Valores unicos: \n",
      "[' Not-in-family' ' Husband' ' Wife' ' Own-child' ' Unmarried'\n",
      " ' Other-relative']\n",
      "\n",
      " Husband           13193\n",
      " Not-in-family      8305\n",
      " Own-child          5068\n",
      " Unmarried          3446\n",
      " Wife               1568\n",
      " Other-relative      981\n",
      "Name: relationship, dtype: int64\n",
      "\n",
      "Variable RACE:\n",
      "Valores unicos: \n",
      "[' White' ' Black' ' Asian-Pac-Islander' ' Amer-Indian-Eskimo' ' Other']\n",
      "\n",
      " White                 27816\n",
      " Black                  3124\n",
      " Asian-Pac-Islander     1039\n",
      " Amer-Indian-Eskimo      311\n",
      " Other                   271\n",
      "Name: race, dtype: int64\n",
      "\n",
      "Variable SEX:\n",
      "Valores unicos: \n",
      "[' Male' ' Female']\n",
      "\n",
      " Male      21790\n",
      " Female    10771\n",
      "Name: sex, dtype: int64\n",
      "\n",
      "Variable NATIVE_COUNTRY:\n",
      "Valores unicos: \n",
      "[' United-States' ' Cuba' ' Jamaica' ' India' ' ?' ' Mexico' ' South'\n",
      " ' Puerto-Rico' ' Honduras' ' England' ' Canada' ' Germany' ' Iran'\n",
      " ' Philippines' ' Italy' ' Poland' ' Columbia' ' Cambodia' ' Thailand'\n",
      " ' Ecuador' ' Laos' ' Taiwan' ' Haiti' ' Portugal' ' Dominican-Republic'\n",
      " ' El-Salvador' ' France' ' Guatemala' ' China' ' Japan' ' Yugoslavia'\n",
      " ' Peru' ' Outlying-US(Guam-USVI-etc)' ' Scotland' ' Trinadad&Tobago'\n",
      " ' Greece' ' Nicaragua' ' Vietnam' ' Hong' ' Ireland' ' Hungary'\n",
      " ' Holand-Netherlands']\n",
      "\n",
      " United-States                 29170\n",
      " Mexico                          643\n",
      " ?                               583\n",
      " Philippines                     198\n",
      " Germany                         137\n",
      " Canada                          121\n",
      " Puerto-Rico                     114\n",
      " El-Salvador                     106\n",
      " India                           100\n",
      " Cuba                             95\n",
      " England                          90\n",
      " Jamaica                          81\n",
      " South                            80\n",
      " China                            75\n",
      " Italy                            73\n",
      " Dominican-Republic               70\n",
      " Vietnam                          67\n",
      " Guatemala                        64\n",
      " Japan                            62\n",
      " Poland                           60\n",
      " Columbia                         59\n",
      " Taiwan                           51\n",
      " Haiti                            44\n",
      " Iran                             43\n",
      " Portugal                         37\n",
      " Nicaragua                        34\n",
      " Peru                             31\n",
      " France                           29\n",
      " Greece                           29\n",
      " Ecuador                          28\n",
      " Ireland                          24\n",
      " Hong                             20\n",
      " Cambodia                         19\n",
      " Trinadad&Tobago                  19\n",
      " Laos                             18\n",
      " Thailand                         18\n",
      " Yugoslavia                       16\n",
      " Outlying-US(Guam-USVI-etc)       14\n",
      " Honduras                         13\n",
      " Hungary                          13\n",
      " Scotland                         12\n",
      " Holand-Netherlands                1\n",
      "Name: native_country, dtype: int64\n",
      "\n",
      "Variable INCOME:\n",
      "Valores unicos: \n",
      "[' <=50K' ' >50K']\n",
      "\n",
      " <=50K    24720\n",
      " >50K      7841\n",
      "Name: income, dtype: int64\n",
      "\n"
     ]
    }
   ],
   "source": [
    "for discreta in variables_discretas:\n",
    "\n",
    "    print(f'Variable {discreta.upper()}:')\n",
    "    print('Valores unicos: ')\n",
    "    print(df_adult[discreta].unique(), end='\\n'*2)\n",
    "    print(df_adult[discreta].value_counts(), end='\\n'*2)\n"
   ]
  },
  {
   "cell_type": "markdown",
   "id": "39551d77-9a6b-46f0-aea4-6aa0f3f12669",
   "metadata": {
    "id": "39551d77-9a6b-46f0-aea4-6aa0f3f12669"
   },
   "source": [
    "**Deberíamos  eliminar los espacios en blanco en las columnas tipo cadena y sustituir la interrogación \"?\" por el valor nulo**"
   ]
  },
  {
   "cell_type": "code",
   "execution_count": null,
   "id": "046c60ee-4b6f-45cc-85ee-83205831296e",
   "metadata": {},
   "outputs": [],
   "source": []
  },
  {
   "cell_type": "markdown",
   "id": "80607a88-1e82-4e7d-a42f-c446546f74be",
   "metadata": {
    "id": "80607a88-1e82-4e7d-a42f-c446546f74be"
   },
   "source": [
    "## CORRECCIÓN DE ERRORES"
   ]
  },
  {
   "cell_type": "markdown",
   "id": "cc10b292-76e9-4f23-bc2d-be5eafe5a497",
   "metadata": {
    "id": "cc10b292-76e9-4f23-bc2d-be5eafe5a497"
   },
   "source": [
    "### Espacios en blanco en los campos cadena"
   ]
  },
  {
   "cell_type": "markdown",
   "id": "9651c0b5-0e4c-4cdb-85ff-4377d87dc771",
   "metadata": {
    "id": "9651c0b5-0e4c-4cdb-85ff-4377d87dc771"
   },
   "source": [
    "**Nota**: a una **Serie** cuyos datos sean texto (cadena, string), se le pueden **aplicar métodos de cadena** a la Serie completa **anteponiendo la palabra clave \"str\" en la notación punto.**"
   ]
  },
  {
   "cell_type": "code",
   "execution_count": 15,
   "id": "eadc2484-6d80-4c94-8d07-7a5e74e2ef69",
   "metadata": {
    "id": "eadc2484-6d80-4c94-8d07-7a5e74e2ef69"
   },
   "outputs": [],
   "source": [
    "def eliminar_espacios(serie):\n",
    "    return serie.str.strip()"
   ]
  },
  {
   "cell_type": "raw",
   "id": "bfe5f538-9bbb-4256-9378-e48ad4c34f5d",
   "metadata": {
    "id": "bfe5f538-9bbb-4256-9378-e48ad4c34f5d"
   },
   "source": []
  },
  {
   "cell_type": "code",
   "execution_count": 16,
   "id": "17534ded-83d0-47b0-9d35-52a5d5060530",
   "metadata": {
    "colab": {
     "base_uri": "https://localhost:8080/",
     "height": 35
    },
    "id": "17534ded-83d0-47b0-9d35-52a5d5060530",
    "outputId": "500232a8-2758-4657-8ae6-dfffedb1c752"
   },
   "outputs": [
    {
     "data": {
      "text/plain": [
       "' White'"
      ]
     },
     "execution_count": 16,
     "metadata": {},
     "output_type": "execute_result"
    }
   ],
   "source": [
    "df_adult.race[0]"
   ]
  },
  {
   "cell_type": "code",
   "execution_count": 17,
   "id": "b9d8f867-a804-4cc5-9c44-9c79e716a82a",
   "metadata": {
    "colab": {
     "base_uri": "https://localhost:8080/",
     "height": 35
    },
    "id": "b9d8f867-a804-4cc5-9c44-9c79e716a82a",
    "outputId": "dd3b376e-7365-46cf-a2be-307112fbf322"
   },
   "outputs": [
    {
     "data": {
      "text/plain": [
       "'White'"
      ]
     },
     "execution_count": 17,
     "metadata": {},
     "output_type": "execute_result"
    }
   ],
   "source": [
    "eliminar_espacios(df_adult.race)[0]"
   ]
  },
  {
   "cell_type": "code",
   "execution_count": null,
   "id": "c8e09b68-c48e-49c3-a1d5-9c607a7c64c7",
   "metadata": {
    "id": "c8e09b68-c48e-49c3-a1d5-9c607a7c64c7"
   },
   "outputs": [],
   "source": []
  },
  {
   "cell_type": "code",
   "execution_count": 18,
   "id": "258426c2-36b6-4908-ad3e-fd531c50e39c",
   "metadata": {
    "colab": {
     "base_uri": "https://localhost:8080/"
    },
    "id": "258426c2-36b6-4908-ad3e-fd531c50e39c",
    "outputId": "8e3fddc3-4d10-4c17-d086-38bdf5a2ea78"
   },
   "outputs": [
    {
     "name": "stdout",
     "output_type": "stream",
     "text": [
      "Variable WORKCLASS:\n",
      "Valores unicos: \n",
      "['State-gov' 'Self-emp-not-inc' 'Private' 'Federal-gov' 'Local-gov' '?'\n",
      " 'Self-emp-inc' 'Without-pay' 'Never-worked']\n",
      "\n",
      "Variable EDUCATION:\n",
      "Valores unicos: \n",
      "['Bachelors' 'HS-grad' '11th' 'Masters' '9th' 'Some-college' 'Assoc-acdm'\n",
      " 'Assoc-voc' '7th-8th' 'Doctorate' 'Prof-school' '5th-6th' '10th'\n",
      " '1st-4th' 'Preschool' '12th']\n",
      "\n",
      "Variable EDUCATION_NUM:\n",
      "Valores unicos: \n",
      "['13' '9' '7' '14' '5' '10' '12' '11' '4' '16' '15' '3' '6' '2' '1' '8']\n",
      "\n",
      "Variable MARITAL_STATUS:\n",
      "Valores unicos: \n",
      "['Never-married' 'Married-civ-spouse' 'Divorced' 'Married-spouse-absent'\n",
      " 'Separated' 'Married-AF-spouse' 'Widowed']\n",
      "\n",
      "Variable OCCUPATION:\n",
      "Valores unicos: \n",
      "['Adm-clerical' 'Exec-managerial' 'Handlers-cleaners' 'Prof-specialty'\n",
      " 'Other-service' 'Sales' 'Craft-repair' 'Transport-moving'\n",
      " 'Farming-fishing' 'Machine-op-inspct' 'Tech-support' '?'\n",
      " 'Protective-serv' 'Armed-Forces' 'Priv-house-serv']\n",
      "\n",
      "Variable RELATIONSHIP:\n",
      "Valores unicos: \n",
      "['Not-in-family' 'Husband' 'Wife' 'Own-child' 'Unmarried' 'Other-relative']\n",
      "\n",
      "Variable RACE:\n",
      "Valores unicos: \n",
      "['White' 'Black' 'Asian-Pac-Islander' 'Amer-Indian-Eskimo' 'Other']\n",
      "\n",
      "Variable SEX:\n",
      "Valores unicos: \n",
      "['Male' 'Female']\n",
      "\n",
      "Variable NATIVE_COUNTRY:\n",
      "Valores unicos: \n",
      "['United-States' 'Cuba' 'Jamaica' 'India' '?' 'Mexico' 'South'\n",
      " 'Puerto-Rico' 'Honduras' 'England' 'Canada' 'Germany' 'Iran'\n",
      " 'Philippines' 'Italy' 'Poland' 'Columbia' 'Cambodia' 'Thailand' 'Ecuador'\n",
      " 'Laos' 'Taiwan' 'Haiti' 'Portugal' 'Dominican-Republic' 'El-Salvador'\n",
      " 'France' 'Guatemala' 'China' 'Japan' 'Yugoslavia' 'Peru'\n",
      " 'Outlying-US(Guam-USVI-etc)' 'Scotland' 'Trinadad&Tobago' 'Greece'\n",
      " 'Nicaragua' 'Vietnam' 'Hong' 'Ireland' 'Hungary' 'Holand-Netherlands']\n",
      "\n",
      "Variable INCOME:\n",
      "Valores unicos: \n",
      "['<=50K' '>50K']\n",
      "\n"
     ]
    }
   ],
   "source": [
    "df_adult[variables_discretas] = df_adult[variables_discretas].apply(eliminar_espacios)\n",
    "\n",
    "for discreta in variables_discretas:\n",
    "\n",
    "    print(f'Variable {discreta.upper()}:')\n",
    "    print('Valores unicos: ')\n",
    "    print(df_adult[discreta].unique(), end='\\n'*2)"
   ]
  },
  {
   "cell_type": "code",
   "execution_count": null,
   "id": "44f91da4-2019-4d70-9496-86d76519f543",
   "metadata": {
    "id": "44f91da4-2019-4d70-9496-86d76519f543"
   },
   "outputs": [],
   "source": []
  },
  {
   "cell_type": "markdown",
   "id": "8dc7a2f1-8de9-4ceb-b6f8-a79ba41195f1",
   "metadata": {
    "id": "8dc7a2f1-8de9-4ceb-b6f8-a79ba41195f1"
   },
   "source": [
    "### Codificar correctamente los datos nulos (sustituir \"?\")"
   ]
  },
  {
   "cell_type": "code",
   "execution_count": 19,
   "id": "8974b4bf-ce8e-4d10-85fb-22aef2a99a05",
   "metadata": {
    "colab": {
     "base_uri": "https://localhost:8080/"
    },
    "id": "8974b4bf-ce8e-4d10-85fb-22aef2a99a05",
    "outputId": "57d04cd5-b2e2-458c-c8f4-d207fb745f44"
   },
   "outputs": [
    {
     "name": "stdout",
     "output_type": "stream",
     "text": [
      "Variable WORKCLASS:\n",
      "Valores unicos: \n",
      "['State-gov' 'Self-emp-not-inc' 'Private' 'Federal-gov' 'Local-gov' None\n",
      " 'Self-emp-inc' 'Without-pay' 'Never-worked']\n",
      "\n",
      "Variable EDUCATION:\n",
      "Valores unicos: \n",
      "['Bachelors' 'HS-grad' '11th' 'Masters' '9th' 'Some-college' 'Assoc-acdm'\n",
      " 'Assoc-voc' '7th-8th' 'Doctorate' 'Prof-school' '5th-6th' '10th'\n",
      " '1st-4th' 'Preschool' '12th']\n",
      "\n",
      "Variable EDUCATION_NUM:\n",
      "Valores unicos: \n",
      "['13' '9' '7' '14' '5' '10' '12' '11' '4' '16' '15' '3' '6' '2' '1' '8']\n",
      "\n",
      "Variable MARITAL_STATUS:\n",
      "Valores unicos: \n",
      "['Never-married' 'Married-civ-spouse' 'Divorced' 'Married-spouse-absent'\n",
      " 'Separated' 'Married-AF-spouse' 'Widowed']\n",
      "\n",
      "Variable OCCUPATION:\n",
      "Valores unicos: \n",
      "['Adm-clerical' 'Exec-managerial' 'Handlers-cleaners' 'Prof-specialty'\n",
      " 'Other-service' 'Sales' 'Craft-repair' 'Transport-moving'\n",
      " 'Farming-fishing' 'Machine-op-inspct' 'Tech-support' None\n",
      " 'Protective-serv' 'Armed-Forces' 'Priv-house-serv']\n",
      "\n",
      "Variable RELATIONSHIP:\n",
      "Valores unicos: \n",
      "['Not-in-family' 'Husband' 'Wife' 'Own-child' 'Unmarried' 'Other-relative']\n",
      "\n",
      "Variable RACE:\n",
      "Valores unicos: \n",
      "['White' 'Black' 'Asian-Pac-Islander' 'Amer-Indian-Eskimo' 'Other']\n",
      "\n",
      "Variable SEX:\n",
      "Valores unicos: \n",
      "['Male' 'Female']\n",
      "\n",
      "Variable NATIVE_COUNTRY:\n",
      "Valores unicos: \n",
      "['United-States' 'Cuba' 'Jamaica' 'India' None 'Mexico' 'South'\n",
      " 'Puerto-Rico' 'Honduras' 'England' 'Canada' 'Germany' 'Iran'\n",
      " 'Philippines' 'Italy' 'Poland' 'Columbia' 'Cambodia' 'Thailand' 'Ecuador'\n",
      " 'Laos' 'Taiwan' 'Haiti' 'Portugal' 'Dominican-Republic' 'El-Salvador'\n",
      " 'France' 'Guatemala' 'China' 'Japan' 'Yugoslavia' 'Peru'\n",
      " 'Outlying-US(Guam-USVI-etc)' 'Scotland' 'Trinadad&Tobago' 'Greece'\n",
      " 'Nicaragua' 'Vietnam' 'Hong' 'Ireland' 'Hungary' 'Holand-Netherlands']\n",
      "\n",
      "Variable INCOME:\n",
      "Valores unicos: \n",
      "['<=50K' '>50K']\n",
      "\n"
     ]
    }
   ],
   "source": [
    "df_adult.replace('?', None, inplace=True)\n",
    "\n",
    "for discreta in variables_discretas:\n",
    "\n",
    "    print(f'Variable {discreta.upper()}:')\n",
    "    print('Valores unicos: ')\n",
    "    print(df_adult[discreta].unique(), end='\\n'*2)"
   ]
  },
  {
   "cell_type": "code",
   "execution_count": 20,
   "id": "9f060b08-8f89-4671-938d-953086856252",
   "metadata": {
    "colab": {
     "base_uri": "https://localhost:8080/"
    },
    "id": "9f060b08-8f89-4671-938d-953086856252",
    "outputId": "819a0897-cb42-4377-aad3-7c191bbd0eba"
   },
   "outputs": [
    {
     "data": {
      "text/plain": [
       "age                  0\n",
       "workclass         1836\n",
       "fnlwgt               0\n",
       "education            0\n",
       "education_num        0\n",
       "marital_status       0\n",
       "occupation        1843\n",
       "relationship         0\n",
       "race                 0\n",
       "sex                  0\n",
       "capital_gain         0\n",
       "capital_loss         0\n",
       "hours_per_week       0\n",
       "native_country     583\n",
       "income               0\n",
       "dtype: int64"
      ]
     },
     "execution_count": 20,
     "metadata": {},
     "output_type": "execute_result"
    }
   ],
   "source": [
    "df_adult.isnull().sum()"
   ]
  },
  {
   "cell_type": "code",
   "execution_count": 21,
   "id": "59fcc3d2-0ed6-47b0-b959-7524927d83af",
   "metadata": {
    "colab": {
     "base_uri": "https://localhost:8080/"
    },
    "id": "59fcc3d2-0ed6-47b0-b959-7524927d83af",
    "outputId": "fc7b41fd-dd9b-4ce9-920d-c6119c7f0de6"
   },
   "outputs": [
    {
     "data": {
      "text/plain": [
       "age               0.000000\n",
       "workclass         5.638647\n",
       "fnlwgt            0.000000\n",
       "education         0.000000\n",
       "education_num     0.000000\n",
       "marital_status    0.000000\n",
       "occupation        5.660146\n",
       "relationship      0.000000\n",
       "race              0.000000\n",
       "sex               0.000000\n",
       "capital_gain      0.000000\n",
       "capital_loss      0.000000\n",
       "hours_per_week    0.000000\n",
       "native_country    1.790486\n",
       "income            0.000000\n",
       "dtype: float64"
      ]
     },
     "execution_count": 21,
     "metadata": {},
     "output_type": "execute_result"
    }
   ],
   "source": [
    "df_adult.isnull().mean() * 100"
   ]
  },
  {
   "cell_type": "code",
   "execution_count": null,
   "id": "21eaa1c4-0839-4f15-9839-9e4bd0f43dc4",
   "metadata": {
    "id": "21eaa1c4-0839-4f15-9839-9e4bd0f43dc4"
   },
   "outputs": [],
   "source": []
  },
  {
   "cell_type": "markdown",
   "id": "029830fd-e919-4d99-bdd2-d90b9486fcac",
   "metadata": {
    "id": "029830fd-e919-4d99-bdd2-d90b9486fcac"
   },
   "source": [
    "## AÑADIR CAMPO CALCULADO 'capital_dif'. ELIMINAR LOS CAMPOS NO NECESARIOS."
   ]
  },
  {
   "cell_type": "code",
   "execution_count": 22,
   "id": "513a5015-5e8f-4fca-a36e-e352626f3c2f",
   "metadata": {
    "colab": {
     "base_uri": "https://localhost:8080/",
     "height": 399
    },
    "id": "513a5015-5e8f-4fca-a36e-e352626f3c2f",
    "outputId": "93212750-d483-446c-d47a-6094e898defb"
   },
   "outputs": [
    {
     "data": {
      "text/html": [
       "<div>\n",
       "<style scoped>\n",
       "    .dataframe tbody tr th:only-of-type {\n",
       "        vertical-align: middle;\n",
       "    }\n",
       "\n",
       "    .dataframe tbody tr th {\n",
       "        vertical-align: top;\n",
       "    }\n",
       "\n",
       "    .dataframe thead th {\n",
       "        text-align: right;\n",
       "    }\n",
       "</style>\n",
       "<table border=\"1\" class=\"dataframe\">\n",
       "  <thead>\n",
       "    <tr style=\"text-align: right;\">\n",
       "      <th></th>\n",
       "      <th>age</th>\n",
       "      <th>workclass</th>\n",
       "      <th>fnlwgt</th>\n",
       "      <th>education</th>\n",
       "      <th>education_num</th>\n",
       "      <th>marital_status</th>\n",
       "      <th>occupation</th>\n",
       "      <th>relationship</th>\n",
       "      <th>race</th>\n",
       "      <th>sex</th>\n",
       "      <th>capital_gain</th>\n",
       "      <th>capital_loss</th>\n",
       "      <th>hours_per_week</th>\n",
       "      <th>native_country</th>\n",
       "      <th>income</th>\n",
       "      <th>capital_dif</th>\n",
       "    </tr>\n",
       "  </thead>\n",
       "  <tbody>\n",
       "    <tr>\n",
       "      <th>0</th>\n",
       "      <td>39</td>\n",
       "      <td>State-gov</td>\n",
       "      <td>77516</td>\n",
       "      <td>Bachelors</td>\n",
       "      <td>13</td>\n",
       "      <td>Never-married</td>\n",
       "      <td>Adm-clerical</td>\n",
       "      <td>Not-in-family</td>\n",
       "      <td>White</td>\n",
       "      <td>Male</td>\n",
       "      <td>2174</td>\n",
       "      <td>0</td>\n",
       "      <td>40</td>\n",
       "      <td>United-States</td>\n",
       "      <td>&lt;=50K</td>\n",
       "      <td>2174</td>\n",
       "    </tr>\n",
       "    <tr>\n",
       "      <th>1</th>\n",
       "      <td>50</td>\n",
       "      <td>Self-emp-not-inc</td>\n",
       "      <td>83311</td>\n",
       "      <td>Bachelors</td>\n",
       "      <td>13</td>\n",
       "      <td>Married-civ-spouse</td>\n",
       "      <td>Exec-managerial</td>\n",
       "      <td>Husband</td>\n",
       "      <td>White</td>\n",
       "      <td>Male</td>\n",
       "      <td>0</td>\n",
       "      <td>0</td>\n",
       "      <td>13</td>\n",
       "      <td>United-States</td>\n",
       "      <td>&lt;=50K</td>\n",
       "      <td>0</td>\n",
       "    </tr>\n",
       "    <tr>\n",
       "      <th>2</th>\n",
       "      <td>38</td>\n",
       "      <td>Private</td>\n",
       "      <td>215646</td>\n",
       "      <td>HS-grad</td>\n",
       "      <td>9</td>\n",
       "      <td>Divorced</td>\n",
       "      <td>Handlers-cleaners</td>\n",
       "      <td>Not-in-family</td>\n",
       "      <td>White</td>\n",
       "      <td>Male</td>\n",
       "      <td>0</td>\n",
       "      <td>0</td>\n",
       "      <td>40</td>\n",
       "      <td>United-States</td>\n",
       "      <td>&lt;=50K</td>\n",
       "      <td>0</td>\n",
       "    </tr>\n",
       "    <tr>\n",
       "      <th>3</th>\n",
       "      <td>53</td>\n",
       "      <td>Private</td>\n",
       "      <td>234721</td>\n",
       "      <td>11th</td>\n",
       "      <td>7</td>\n",
       "      <td>Married-civ-spouse</td>\n",
       "      <td>Handlers-cleaners</td>\n",
       "      <td>Husband</td>\n",
       "      <td>Black</td>\n",
       "      <td>Male</td>\n",
       "      <td>0</td>\n",
       "      <td>0</td>\n",
       "      <td>40</td>\n",
       "      <td>United-States</td>\n",
       "      <td>&lt;=50K</td>\n",
       "      <td>0</td>\n",
       "    </tr>\n",
       "    <tr>\n",
       "      <th>4</th>\n",
       "      <td>28</td>\n",
       "      <td>Private</td>\n",
       "      <td>338409</td>\n",
       "      <td>Bachelors</td>\n",
       "      <td>13</td>\n",
       "      <td>Married-civ-spouse</td>\n",
       "      <td>Prof-specialty</td>\n",
       "      <td>Wife</td>\n",
       "      <td>Black</td>\n",
       "      <td>Female</td>\n",
       "      <td>0</td>\n",
       "      <td>0</td>\n",
       "      <td>40</td>\n",
       "      <td>Cuba</td>\n",
       "      <td>&lt;=50K</td>\n",
       "      <td>0</td>\n",
       "    </tr>\n",
       "  </tbody>\n",
       "</table>\n",
       "</div>"
      ],
      "text/plain": [
       "   age         workclass  fnlwgt  education education_num      marital_status  \\\n",
       "0   39         State-gov   77516  Bachelors            13       Never-married   \n",
       "1   50  Self-emp-not-inc   83311  Bachelors            13  Married-civ-spouse   \n",
       "2   38           Private  215646    HS-grad             9            Divorced   \n",
       "3   53           Private  234721       11th             7  Married-civ-spouse   \n",
       "4   28           Private  338409  Bachelors            13  Married-civ-spouse   \n",
       "\n",
       "          occupation   relationship   race     sex  capital_gain  \\\n",
       "0       Adm-clerical  Not-in-family  White    Male          2174   \n",
       "1    Exec-managerial        Husband  White    Male             0   \n",
       "2  Handlers-cleaners  Not-in-family  White    Male             0   \n",
       "3  Handlers-cleaners        Husband  Black    Male             0   \n",
       "4     Prof-specialty           Wife  Black  Female             0   \n",
       "\n",
       "   capital_loss  hours_per_week native_country income  capital_dif  \n",
       "0             0              40  United-States  <=50K         2174  \n",
       "1             0              13  United-States  <=50K            0  \n",
       "2             0              40  United-States  <=50K            0  \n",
       "3             0              40  United-States  <=50K            0  \n",
       "4             0              40           Cuba  <=50K            0  "
      ]
     },
     "execution_count": 22,
     "metadata": {},
     "output_type": "execute_result"
    }
   ],
   "source": [
    "df_adult['capital_dif'] = df_adult['capital_gain'] - df_adult['capital_loss']\n",
    "\n",
    "df_adult.head()"
   ]
  },
  {
   "cell_type": "code",
   "execution_count": null,
   "id": "82714d2a-3c05-4968-994f-d0647b02679f",
   "metadata": {
    "id": "82714d2a-3c05-4968-994f-d0647b02679f"
   },
   "outputs": [],
   "source": []
  },
  {
   "cell_type": "code",
   "execution_count": 23,
   "id": "3675fc78-e8e0-411f-8010-77acd4912a45",
   "metadata": {
    "colab": {
     "base_uri": "https://localhost:8080/",
     "height": 399
    },
    "id": "3675fc78-e8e0-411f-8010-77acd4912a45",
    "outputId": "263d2df3-fd7e-4685-c5b6-db73c9af5a72"
   },
   "outputs": [
    {
     "data": {
      "text/html": [
       "<div>\n",
       "<style scoped>\n",
       "    .dataframe tbody tr th:only-of-type {\n",
       "        vertical-align: middle;\n",
       "    }\n",
       "\n",
       "    .dataframe tbody tr th {\n",
       "        vertical-align: top;\n",
       "    }\n",
       "\n",
       "    .dataframe thead th {\n",
       "        text-align: right;\n",
       "    }\n",
       "</style>\n",
       "<table border=\"1\" class=\"dataframe\">\n",
       "  <thead>\n",
       "    <tr style=\"text-align: right;\">\n",
       "      <th></th>\n",
       "      <th>age</th>\n",
       "      <th>workclass</th>\n",
       "      <th>fnlwgt</th>\n",
       "      <th>education</th>\n",
       "      <th>education_num</th>\n",
       "      <th>marital_status</th>\n",
       "      <th>occupation</th>\n",
       "      <th>relationship</th>\n",
       "      <th>race</th>\n",
       "      <th>sex</th>\n",
       "      <th>hours_per_week</th>\n",
       "      <th>native_country</th>\n",
       "      <th>income</th>\n",
       "      <th>capital_dif</th>\n",
       "    </tr>\n",
       "  </thead>\n",
       "  <tbody>\n",
       "    <tr>\n",
       "      <th>0</th>\n",
       "      <td>39</td>\n",
       "      <td>State-gov</td>\n",
       "      <td>77516</td>\n",
       "      <td>Bachelors</td>\n",
       "      <td>13</td>\n",
       "      <td>Never-married</td>\n",
       "      <td>Adm-clerical</td>\n",
       "      <td>Not-in-family</td>\n",
       "      <td>White</td>\n",
       "      <td>Male</td>\n",
       "      <td>40</td>\n",
       "      <td>United-States</td>\n",
       "      <td>&lt;=50K</td>\n",
       "      <td>2174</td>\n",
       "    </tr>\n",
       "    <tr>\n",
       "      <th>1</th>\n",
       "      <td>50</td>\n",
       "      <td>Self-emp-not-inc</td>\n",
       "      <td>83311</td>\n",
       "      <td>Bachelors</td>\n",
       "      <td>13</td>\n",
       "      <td>Married-civ-spouse</td>\n",
       "      <td>Exec-managerial</td>\n",
       "      <td>Husband</td>\n",
       "      <td>White</td>\n",
       "      <td>Male</td>\n",
       "      <td>13</td>\n",
       "      <td>United-States</td>\n",
       "      <td>&lt;=50K</td>\n",
       "      <td>0</td>\n",
       "    </tr>\n",
       "    <tr>\n",
       "      <th>2</th>\n",
       "      <td>38</td>\n",
       "      <td>Private</td>\n",
       "      <td>215646</td>\n",
       "      <td>HS-grad</td>\n",
       "      <td>9</td>\n",
       "      <td>Divorced</td>\n",
       "      <td>Handlers-cleaners</td>\n",
       "      <td>Not-in-family</td>\n",
       "      <td>White</td>\n",
       "      <td>Male</td>\n",
       "      <td>40</td>\n",
       "      <td>United-States</td>\n",
       "      <td>&lt;=50K</td>\n",
       "      <td>0</td>\n",
       "    </tr>\n",
       "    <tr>\n",
       "      <th>3</th>\n",
       "      <td>53</td>\n",
       "      <td>Private</td>\n",
       "      <td>234721</td>\n",
       "      <td>11th</td>\n",
       "      <td>7</td>\n",
       "      <td>Married-civ-spouse</td>\n",
       "      <td>Handlers-cleaners</td>\n",
       "      <td>Husband</td>\n",
       "      <td>Black</td>\n",
       "      <td>Male</td>\n",
       "      <td>40</td>\n",
       "      <td>United-States</td>\n",
       "      <td>&lt;=50K</td>\n",
       "      <td>0</td>\n",
       "    </tr>\n",
       "    <tr>\n",
       "      <th>4</th>\n",
       "      <td>28</td>\n",
       "      <td>Private</td>\n",
       "      <td>338409</td>\n",
       "      <td>Bachelors</td>\n",
       "      <td>13</td>\n",
       "      <td>Married-civ-spouse</td>\n",
       "      <td>Prof-specialty</td>\n",
       "      <td>Wife</td>\n",
       "      <td>Black</td>\n",
       "      <td>Female</td>\n",
       "      <td>40</td>\n",
       "      <td>Cuba</td>\n",
       "      <td>&lt;=50K</td>\n",
       "      <td>0</td>\n",
       "    </tr>\n",
       "  </tbody>\n",
       "</table>\n",
       "</div>"
      ],
      "text/plain": [
       "   age         workclass  fnlwgt  education education_num      marital_status  \\\n",
       "0   39         State-gov   77516  Bachelors            13       Never-married   \n",
       "1   50  Self-emp-not-inc   83311  Bachelors            13  Married-civ-spouse   \n",
       "2   38           Private  215646    HS-grad             9            Divorced   \n",
       "3   53           Private  234721       11th             7  Married-civ-spouse   \n",
       "4   28           Private  338409  Bachelors            13  Married-civ-spouse   \n",
       "\n",
       "          occupation   relationship   race     sex  hours_per_week  \\\n",
       "0       Adm-clerical  Not-in-family  White    Male              40   \n",
       "1    Exec-managerial        Husband  White    Male              13   \n",
       "2  Handlers-cleaners  Not-in-family  White    Male              40   \n",
       "3  Handlers-cleaners        Husband  Black    Male              40   \n",
       "4     Prof-specialty           Wife  Black  Female              40   \n",
       "\n",
       "  native_country income  capital_dif  \n",
       "0  United-States  <=50K         2174  \n",
       "1  United-States  <=50K            0  \n",
       "2  United-States  <=50K            0  \n",
       "3  United-States  <=50K            0  \n",
       "4           Cuba  <=50K            0  "
      ]
     },
     "execution_count": 23,
     "metadata": {},
     "output_type": "execute_result"
    }
   ],
   "source": [
    "df_adult.drop(columns=['capital_gain', 'capital_loss'], inplace=True)\n",
    "\n",
    "df_adult.head()"
   ]
  },
  {
   "cell_type": "code",
   "execution_count": null,
   "id": "ef4c5123-76b9-4e03-a8f6-01f52ee82d62",
   "metadata": {
    "id": "ef4c5123-76b9-4e03-a8f6-01f52ee82d62"
   },
   "outputs": [],
   "source": []
  },
  {
   "cell_type": "markdown",
   "id": "be85570a-509f-4e8d-a800-ed2ba23b7a86",
   "metadata": {
    "id": "be85570a-509f-4e8d-a800-ed2ba23b7a86"
   },
   "source": [
    "## CODIFICAR LA VARIABLE OBJETIVO"
   ]
  },
  {
   "cell_type": "markdown",
   "id": "bcc3e8e0-1a64-46a2-9940-c508227ff796",
   "metadata": {
    "id": "bcc3e8e0-1a64-46a2-9940-c508227ff796"
   },
   "source": [
    "Suele ser usual la variable objetivo si es categórica codificarla a número. Podemos utilizar el método **\"replace\"** que permite establecer las correspondencias:\n"
   ]
  },
  {
   "cell_type": "code",
   "execution_count": 24,
   "id": "17336e08-9651-4c98-8e0f-89a64f56563e",
   "metadata": {
    "id": "17336e08-9651-4c98-8e0f-89a64f56563e"
   },
   "outputs": [
    {
     "data": {
      "text/plain": [
       "14160    <=50K\n",
       "27048    <=50K\n",
       "28868     >50K\n",
       "5667     <=50K\n",
       "7827     <=50K\n",
       "15382     >50K\n",
       "4641      >50K\n",
       "8943     <=50K\n",
       "216      <=50K\n",
       "5121      >50K\n",
       "Name: income, dtype: object"
      ]
     },
     "execution_count": 24,
     "metadata": {},
     "output_type": "execute_result"
    }
   ],
   "source": [
    "muestra_income = df_adult.sample(n=10, random_state=42).income\n",
    "\n",
    "muestra_income"
   ]
  },
  {
   "cell_type": "code",
   "execution_count": 25,
   "id": "2629e079-1687-4501-902f-4651d1c607de",
   "metadata": {
    "id": "2629e079-1687-4501-902f-4651d1c607de"
   },
   "outputs": [
    {
     "data": {
      "text/plain": [
       "14160    0\n",
       "27048    0\n",
       "28868    1\n",
       "5667     0\n",
       "7827     0\n",
       "15382    1\n",
       "4641     1\n",
       "8943     0\n",
       "216      0\n",
       "5121     1\n",
       "Name: income, dtype: int64"
      ]
     },
     "execution_count": 25,
     "metadata": {},
     "output_type": "execute_result"
    }
   ],
   "source": [
    "muestra_income.replace({'<=50K': 0, '>50K': 1})"
   ]
  },
  {
   "cell_type": "code",
   "execution_count": 28,
   "id": "53fc6efd-7f12-42d1-90ac-6a44753d88b5",
   "metadata": {},
   "outputs": [
    {
     "data": {
      "text/plain": [
       "<=50K    24720\n",
       ">50K      7841\n",
       "Name: income, dtype: int64"
      ]
     },
     "execution_count": 28,
     "metadata": {},
     "output_type": "execute_result"
    }
   ],
   "source": [
    "df_adult.income.value_counts()"
   ]
  },
  {
   "cell_type": "code",
   "execution_count": 29,
   "id": "4498778b-c4d6-4495-ad90-bfcaf7b36c96",
   "metadata": {},
   "outputs": [
    {
     "data": {
      "text/plain": [
       "['<=50K',\n",
       " '<=50K',\n",
       " '<=50K',\n",
       " '<=50K',\n",
       " '<=50K',\n",
       " '<=50K',\n",
       " '<=50K',\n",
       " '>50K',\n",
       " '>50K',\n",
       " '>50K']"
      ]
     },
     "execution_count": 29,
     "metadata": {},
     "output_type": "execute_result"
    }
   ],
   "source": [
    "df_adult.income[:10].to_list()"
   ]
  },
  {
   "cell_type": "code",
   "execution_count": 30,
   "id": "4beb682f-590d-4704-9ccf-33be37aecec9",
   "metadata": {
    "id": "4beb682f-590d-4704-9ccf-33be37aecec9"
   },
   "outputs": [
    {
     "data": {
      "text/plain": [
       "0    24720\n",
       "1     7841\n",
       "Name: income, dtype: int64"
      ]
     },
     "execution_count": 30,
     "metadata": {},
     "output_type": "execute_result"
    }
   ],
   "source": [
    "df_adult.income = df_adult.income.replace({'<=50K': 0, '>50K': 1})\n",
    "\n",
    "df_adult.income.value_counts()"
   ]
  },
  {
   "cell_type": "code",
   "execution_count": null,
   "id": "cd2647ce-7622-47e7-98f6-046222eb82ea",
   "metadata": {},
   "outputs": [],
   "source": []
  },
  {
   "cell_type": "code",
   "execution_count": null,
   "id": "72b3aa68-e63b-4066-8579-e0972f968677",
   "metadata": {
    "id": "72b3aa68-e63b-4066-8579-e0972f968677"
   },
   "outputs": [],
   "source": []
  },
  {
   "cell_type": "markdown",
   "id": "60cedd5e-2971-4b4d-9f14-916c3fc83e31",
   "metadata": {
    "id": "60cedd5e-2971-4b4d-9f14-916c3fc83e31"
   },
   "source": [
    "## NOS HACEMOS ALGUNAS PREGUNTAS."
   ]
  },
  {
   "cell_type": "markdown",
   "id": "f00dfe1c-7915-4e29-9c42-e520f8e3639d",
   "metadata": {
    "id": "f00dfe1c-7915-4e29-9c42-e520f8e3639d"
   },
   "source": [
    "**-¿Influye la educación en los ingresos?**"
   ]
  },
  {
   "cell_type": "code",
   "execution_count": 31,
   "id": "ecde63ab-2384-4625-9d0b-7597af2f108d",
   "metadata": {
    "id": "ecde63ab-2384-4625-9d0b-7597af2f108d"
   },
   "outputs": [
    {
     "data": {
      "text/plain": [
       "education\n",
       "Doctorate       0.740920\n",
       "Prof-school     0.734375\n",
       "Masters         0.556587\n",
       "Bachelors       0.414753\n",
       "Assoc-voc       0.261216\n",
       "Assoc-acdm      0.248360\n",
       "Some-college    0.190235\n",
       "HS-grad         0.159509\n",
       "12th            0.076212\n",
       "10th            0.066452\n",
       "7th-8th         0.061920\n",
       "9th             0.052529\n",
       "11th            0.051064\n",
       "5th-6th         0.048048\n",
       "1st-4th         0.035714\n",
       "Preschool       0.000000\n",
       "Name: income, dtype: float64"
      ]
     },
     "execution_count": 31,
     "metadata": {},
     "output_type": "execute_result"
    }
   ],
   "source": [
    "df_adult.groupby(by=['education'])['income'].agg('mean').sort_values(ascending=False)"
   ]
  },
  {
   "cell_type": "code",
   "execution_count": null,
   "id": "83cb0e24-fec1-4589-9ff7-1b2d04bbd2a1",
   "metadata": {
    "id": "83cb0e24-fec1-4589-9ff7-1b2d04bbd2a1"
   },
   "outputs": [],
   "source": []
  },
  {
   "cell_type": "markdown",
   "id": "69841366-4fa7-4ef5-96a1-569fd65e9a77",
   "metadata": {
    "id": "69841366-4fa7-4ef5-96a1-569fd65e9a77"
   },
   "source": [
    "**-¿Hay sesgo por la raza?**"
   ]
  },
  {
   "cell_type": "code",
   "execution_count": 32,
   "id": "13ae63e3-d91e-4436-ab01-bc95ade6b993",
   "metadata": {
    "id": "13ae63e3-d91e-4436-ab01-bc95ade6b993"
   },
   "outputs": [
    {
     "data": {
      "text/plain": [
       "race\n",
       "Asian-Pac-Islander    0.265640\n",
       "White                 0.255860\n",
       "Black                 0.123880\n",
       "Amer-Indian-Eskimo    0.115756\n",
       "Other                 0.092251\n",
       "Name: income, dtype: float64"
      ]
     },
     "execution_count": 32,
     "metadata": {},
     "output_type": "execute_result"
    }
   ],
   "source": [
    "df_adult.groupby(by=['race'])['income'].agg('mean').sort_values(ascending=False)"
   ]
  },
  {
   "cell_type": "code",
   "execution_count": null,
   "id": "a3bcc8af-2e08-42e7-a7b8-4eaeb4386541",
   "metadata": {
    "id": "a3bcc8af-2e08-42e7-a7b8-4eaeb4386541"
   },
   "outputs": [],
   "source": []
  },
  {
   "cell_type": "markdown",
   "id": "9cecaa62-254a-427a-8985-3871468c9c5c",
   "metadata": {
    "id": "9cecaa62-254a-427a-8985-3871468c9c5c"
   },
   "source": [
    "**- Influencia cruzada**"
   ]
  },
  {
   "cell_type": "code",
   "execution_count": 33,
   "id": "e8f8e6f5-c8bb-4c2a-9317-793ae79b4db1",
   "metadata": {
    "id": "e8f8e6f5-c8bb-4c2a-9317-793ae79b4db1"
   },
   "outputs": [
    {
     "data": {
      "text/html": [
       "<div>\n",
       "<style scoped>\n",
       "    .dataframe tbody tr th:only-of-type {\n",
       "        vertical-align: middle;\n",
       "    }\n",
       "\n",
       "    .dataframe tbody tr th {\n",
       "        vertical-align: top;\n",
       "    }\n",
       "\n",
       "    .dataframe thead th {\n",
       "        text-align: right;\n",
       "    }\n",
       "</style>\n",
       "<table border=\"1\" class=\"dataframe\">\n",
       "  <thead>\n",
       "    <tr style=\"text-align: right;\">\n",
       "      <th></th>\n",
       "      <th></th>\n",
       "      <th>mean</th>\n",
       "      <th>count</th>\n",
       "    </tr>\n",
       "    <tr>\n",
       "      <th>education</th>\n",
       "      <th>race</th>\n",
       "      <th></th>\n",
       "      <th></th>\n",
       "    </tr>\n",
       "  </thead>\n",
       "  <tbody>\n",
       "    <tr>\n",
       "      <th rowspan=\"2\" valign=\"top\">Prof-school</th>\n",
       "      <th>Other</th>\n",
       "      <td>1.000000</td>\n",
       "      <td>4</td>\n",
       "    </tr>\n",
       "    <tr>\n",
       "      <th>Amer-Indian-Eskimo</th>\n",
       "      <td>1.000000</td>\n",
       "      <td>2</td>\n",
       "    </tr>\n",
       "    <tr>\n",
       "      <th rowspan=\"2\" valign=\"top\">Doctorate</th>\n",
       "      <th>Black</th>\n",
       "      <td>0.818182</td>\n",
       "      <td>11</td>\n",
       "    </tr>\n",
       "    <tr>\n",
       "      <th>White</th>\n",
       "      <td>0.747967</td>\n",
       "      <td>369</td>\n",
       "    </tr>\n",
       "    <tr>\n",
       "      <th>Prof-school</th>\n",
       "      <th>White</th>\n",
       "      <td>0.743191</td>\n",
       "      <td>514</td>\n",
       "    </tr>\n",
       "    <tr>\n",
       "      <th>...</th>\n",
       "      <th>...</th>\n",
       "      <td>...</td>\n",
       "      <td>...</td>\n",
       "    </tr>\n",
       "    <tr>\n",
       "      <th>5th-6th</th>\n",
       "      <th>Black</th>\n",
       "      <td>0.000000</td>\n",
       "      <td>21</td>\n",
       "    </tr>\n",
       "    <tr>\n",
       "      <th rowspan=\"2\" valign=\"top\">9th</th>\n",
       "      <th>Other</th>\n",
       "      <td>0.000000</td>\n",
       "      <td>8</td>\n",
       "    </tr>\n",
       "    <tr>\n",
       "      <th>Amer-Indian-Eskimo</th>\n",
       "      <td>0.000000</td>\n",
       "      <td>5</td>\n",
       "    </tr>\n",
       "    <tr>\n",
       "      <th>7th-8th</th>\n",
       "      <th>Other</th>\n",
       "      <td>0.000000</td>\n",
       "      <td>17</td>\n",
       "    </tr>\n",
       "    <tr>\n",
       "      <th>10th</th>\n",
       "      <th>Amer-Indian-Eskimo</th>\n",
       "      <td>0.000000</td>\n",
       "      <td>16</td>\n",
       "    </tr>\n",
       "  </tbody>\n",
       "</table>\n",
       "<p>79 rows × 2 columns</p>\n",
       "</div>"
      ],
      "text/plain": [
       "                                    mean  count\n",
       "education   race                               \n",
       "Prof-school Other               1.000000      4\n",
       "            Amer-Indian-Eskimo  1.000000      2\n",
       "Doctorate   Black               0.818182     11\n",
       "            White               0.747967    369\n",
       "Prof-school White               0.743191    514\n",
       "...                                  ...    ...\n",
       "5th-6th     Black               0.000000     21\n",
       "9th         Other               0.000000      8\n",
       "            Amer-Indian-Eskimo  0.000000      5\n",
       "7th-8th     Other               0.000000     17\n",
       "10th        Amer-Indian-Eskimo  0.000000     16\n",
       "\n",
       "[79 rows x 2 columns]"
      ]
     },
     "execution_count": 33,
     "metadata": {},
     "output_type": "execute_result"
    }
   ],
   "source": [
    "df_adult.groupby(by=['education','race'])['income'].agg(['mean','count']).sort_values(by='mean', ascending=False)"
   ]
  },
  {
   "cell_type": "code",
   "execution_count": null,
   "id": "a104a217-ae88-4373-8824-1b75e68dc7d7",
   "metadata": {
    "id": "a104a217-ae88-4373-8824-1b75e68dc7d7"
   },
   "outputs": [],
   "source": []
  },
  {
   "cell_type": "code",
   "execution_count": null,
   "id": "1d3e99ff-3675-408e-a4e8-a47c5197a282",
   "metadata": {
    "id": "1d3e99ff-3675-408e-a4e8-a47c5197a282"
   },
   "outputs": [],
   "source": []
  },
  {
   "cell_type": "markdown",
   "id": "d7d0704e-6921-4626-b601-c7d47dc042eb",
   "metadata": {
    "id": "d7d0704e-6921-4626-b601-c7d47dc042eb"
   },
   "source": [
    "## POR ÚLTIMO GUARDAR EL DATAFRAME PROCESADO"
   ]
  },
  {
   "cell_type": "code",
   "execution_count": 34,
   "id": "9d1ff6db-e281-4804-9e08-9390b62b338c",
   "metadata": {
    "id": "9d1ff6db-e281-4804-9e08-9390b62b338c"
   },
   "outputs": [],
   "source": [
    "df_adult.to_csv('./adult_final.csv', index=False)"
   ]
  },
  {
   "cell_type": "code",
   "execution_count": null,
   "id": "c68e0767-8243-4bff-a2af-ceb54ce94ec9",
   "metadata": {
    "id": "c68e0767-8243-4bff-a2af-ceb54ce94ec9"
   },
   "outputs": [],
   "source": []
  }
 ],
 "metadata": {
  "colab": {
   "provenance": []
  },
  "kernelspec": {
   "display_name": "Python 3 (ipykernel)",
   "language": "python",
   "name": "python3"
  },
  "language_info": {
   "codemirror_mode": {
    "name": "ipython",
    "version": 3
   },
   "file_extension": ".py",
   "mimetype": "text/x-python",
   "name": "python",
   "nbconvert_exporter": "python",
   "pygments_lexer": "ipython3",
   "version": "3.9.13"
  }
 },
 "nbformat": 4,
 "nbformat_minor": 5
}
