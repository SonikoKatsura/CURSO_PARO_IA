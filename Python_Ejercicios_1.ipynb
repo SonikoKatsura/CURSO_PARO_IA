{
 "cells": [
  {
   "cell_type": "markdown",
   "id": "d9066d9d-2beb-41c1-860d-de95b5ffd7e3",
   "metadata": {},
   "source": [
    "# PYTHON EJERCICIOS"
   ]
  },
  {
   "cell_type": "markdown",
   "id": "80a1fe6e-e9e1-4d10-a7f8-4b1d64286a60",
   "metadata": {},
   "source": [
    "## Ejercicio 1\n",
    "\n",
    "Una juguetería tiene mucho éxito en dos de sus productos: payasos y muñecas. Suele hacer venta por correo y la empresa de logística les cobra por peso de cada paquete así que deben calcular el peso de los payasos y muñecas que saldrán en cada paquete a demanda. Cada payaso pesa 112 g y cada muñeca 75 g. Escribir un programa que lea el número de payasos y muñecas vendidos en el último pedido y calcule el peso total del paquete que será enviado."
   ]
  },
  {
   "cell_type": "code",
   "execution_count": 2,
   "id": "1c841e90-db1f-4621-825a-3b837d5969de",
   "metadata": {},
   "outputs": [
    {
     "name": "stdin",
     "output_type": "stream",
     "text": [
      "Introduce el número de payasos vendidos:  1\n",
      "Introduce el número de muñecas vendidas:  2\n"
     ]
    },
    {
     "name": "stdout",
     "output_type": "stream",
     "text": [
      "El peso total del paquete es de 262 gramos.\n"
     ]
    }
   ],
   "source": [
    "def calcular_peso_paquete(num_payasos, num_munecas):\n",
    "# Calcula el peso total de un paquete de payasos y muñecas\n",
    "  peso_payaso = 112\n",
    "  peso_muneca = 75\n",
    "  peso_total = (num_payasos * peso_payaso) + (num_munecas * peso_muneca)\n",
    "  return f\"El peso total del paquete es de {peso_total} gramos.\"\n",
    "\n",
    "# Pedir al usuario la cantidad de payasos y muñecas\n",
    "cantidad_payasos = int(input(\"Introduce el número de payasos vendidos: \"))\n",
    "cantidad_munecas = int(input(\"Introduce el número de muñecas vendidas: \"))\n",
    "\n",
    "# Calcular e imprimir el peso total\n",
    "resultado = calcular_peso_paquete(cantidad_payasos, cantidad_munecas)\n",
    "print(resultado)"
   ]
  },
  {
   "cell_type": "markdown",
   "id": "ac5a75c3-42db-4d32-9bef-3003d45914f6",
   "metadata": {},
   "source": [
    "## Ejercicio 2\n",
    "\n",
    "Escribir un programa que pregunte el correo electrónico del usuario en la consola y muestre por pantalla el usuario (la parte antes  de la arroba @) y el dominio (despues de la arroba @)\n",
    "\n",
    "PISTA: método split() de cadena"
   ]
  },
  {
   "cell_type": "code",
   "execution_count": 3,
   "id": "92bf334d-acc3-4c14-999f-65c7128dd939",
   "metadata": {},
   "outputs": [
    {
     "name": "stdin",
     "output_type": "stream",
     "text": [
      "Introduzca su e-mail:  rober@gmail.com\n"
     ]
    },
    {
     "name": "stdout",
     "output_type": "stream",
     "text": [
      "Su usuario es rober, y su dominio es gmail.com\n"
     ]
    }
   ],
   "source": [
    "# Guardamos correo en una variable\n",
    "correo = str(input(\"Introduzca su e-mail: \"))\n",
    "# Dividimos el correo justo en el @ | Si no hay @ o hay más de 1 no es válido\n",
    "def ej2():\n",
    "    partes = correo.split('@')\n",
    "    if len(partes) == 2:\n",
    "        a = partes[0]\n",
    "        b = partes[1]\n",
    "        c = \"Su usuario es \" + str(a) + \", y su dominio es \" + str(b)\n",
    "        print(c)\n",
    "    else:\n",
    "        print(\"El formato del correo electrónico no es válido.\")\n",
    "# Llamar a la funcion para ejecutar el programa\n",
    "ej2()"
   ]
  },
  {
   "cell_type": "markdown",
   "id": "354ce17c-9017-456a-af0d-303113604b3a",
   "metadata": {},
   "source": [
    "## Ejercicio 3\n",
    "\n",
    "Escribir un programa que pregunte el nombre completo del usuario en la consola y después muestre por pantalla el nombre completo del usuario tres veces, una con todas las letras minúsculas, otra con todas las letras mayúsculas y otra solo con la primera letra del nombre y de los apellidos en mayúscula. El usuario puede introducir su nombre combinando mayúsculas y minúsculas como quiera.\n",
    "PISTA: para el último caso convertid la cadena en lista (split()) y buscad el método de cadena (capitalize()) "
   ]
  },
  {
   "cell_type": "code",
   "execution_count": 4,
   "id": "951c6c97-642d-4f78-ac6b-fbffa280141e",
   "metadata": {},
   "outputs": [
    {
     "name": "stdin",
     "output_type": "stream",
     "text": [
      "Introduce tu nombre completo:  pepe tomate pepino\n"
     ]
    },
    {
     "name": "stdout",
     "output_type": "stream",
     "text": [
      "pepe tomate pepino\n",
      "PEPE TOMATE PEPINO\n",
      "Pepe Tomate Pepino\n"
     ]
    }
   ],
   "source": [
    "def ej3():\n",
    "  # Pide el nombre completo al usuario y lo muestra en tres formatos\n",
    "  nombre_completo = input(\"Introduce tu nombre completo: \")\n",
    "\n",
    "  # Mostrar en minúsculas\n",
    "  print(nombre_completo.lower())\n",
    "\n",
    "  # Mostrar en mayúsculas\n",
    "  print(nombre_completo.upper())\n",
    "\n",
    "  # Mostrar con la primera letra de cada parte en mayúscula\n",
    "  partes_del_nombre = nombre_completo.split()\n",
    "  nombre_capitalizado = \"\"\n",
    "  for parte in partes_del_nombre:\n",
    "    nombre_capitalizado += parte.capitalize() + \" \"\n",
    "  print(nombre_capitalizado.strip()) # Usamos strip() para eliminar el espacio final\n",
    "\n",
    "# Llamar a la función para ejecutar el programa\n",
    "ej3()"
   ]
  },
  {
   "cell_type": "markdown",
   "id": "bdacc1a1-c2ab-45c0-a692-ce87eaf56e38",
   "metadata": {},
   "source": [
    "## Ejercicio 4\n",
    "\n",
    "Escribir un programa que pida al usuario dos números y muestre por pantalla su división. Si el divisor es cero el programa debe mostrar un error."
   ]
  },
  {
   "cell_type": "code",
   "execution_count": 5,
   "id": "23b9bd1c-c6c9-474e-ad3d-85426d8550de",
   "metadata": {},
   "outputs": [
    {
     "name": "stdin",
     "output_type": "stream",
     "text": [
      "Introduce el numerador (entero):  0\n",
      "Introduce el divisor (entero):  1\n"
     ]
    },
    {
     "name": "stdout",
     "output_type": "stream",
     "text": [
      "El resultado de la división es: 0.0\n"
     ]
    }
   ],
   "source": [
    "def ej4():\n",
    "  # Pedir el primer número al usuario\n",
    "  while True:\n",
    "    try:\n",
    "      numerador_str = input(\"Introduce el numerador (entero): \")\n",
    "      numerador = int(numerador_str)\n",
    "      break  # Sale del bucle si la conversión a int es exitosa\n",
    "    except ValueError:\n",
    "      print(\"Error: Por favor, introduce un número entero válido.\")\n",
    "        \n",
    "  # Pedir el segundo número al usuario (el divisor)\n",
    "  while True:\n",
    "    try:\n",
    "      divisor_str = input(\"Introduce el divisor (entero): \")\n",
    "      divisor = int(divisor_str)\n",
    "      if divisor == 0:  # Comprobar si el divisor es cero\n",
    "        print(\"Error: ¡No se puede dividir por cero!\")\n",
    "      else:\n",
    "        break  # Sale del bucle si la conversión a int es exitosa y no es cero\n",
    "    except ValueError:\n",
    "      print(\"Error: Por favor, introduce un número entero válido.\")\n",
    "\n",
    "  resultado = numerador / divisor\n",
    "  print(f\"El resultado de la división es: {resultado}\")\n",
    "\n",
    "# Llamar a la función para ejecutar el programa\n",
    "ej4()"
   ]
  },
  {
   "cell_type": "markdown",
   "id": "4e26ac04-033e-46a3-a574-9734136788fb",
   "metadata": {},
   "source": [
    "## Ejercicio 5 \n",
    "\n",
    "Escribir un programa que pida al usuario un número entero y muestre por pantalla si es par o impar."
   ]
  },
  {
   "cell_type": "code",
   "execution_count": 6,
   "id": "cba8f169-d7a4-4ee6-8439-d5f9be37efb8",
   "metadata": {},
   "outputs": [
    {
     "name": "stdin",
     "output_type": "stream",
     "text": [
      "Introduce un número entero:  15\n"
     ]
    },
    {
     "name": "stdout",
     "output_type": "stream",
     "text": [
      "El número 15 es impar.\n"
     ]
    }
   ],
   "source": [
    "def ej5():\n",
    "  # Pide un número entero al usuario y dice si es par o impar.\n",
    "  while True:\n",
    "    try:\n",
    "      numero_str = input(\"Introduce un número entero: \")\n",
    "      numero = int(numero_str)\n",
    "      break  # Sale del bucle si la conversión a int es exitosa\n",
    "    except ValueError:\n",
    "      print(\"Error: Por favor, introduce un número entero válido.\")\n",
    "\n",
    "  if numero % 2 == 0:\n",
    "    print(f\"El número {numero} es par.\")\n",
    "  else:\n",
    "    print(f\"El número {numero} es impar.\")\n",
    "\n",
    "# Llamar a la función para ejecutar el programa\n",
    "ej5()"
   ]
  },
  {
   "cell_type": "markdown",
   "id": "f5f77563-50c8-442f-bc32-0fe779a30d25",
   "metadata": {},
   "source": [
    "## Ejercicio 6\n",
    "\n",
    "Escribir un programa que pida al usuario un número entero positivo y muestre por pantalla todos los números impares desde 1 hasta ese número, un nº por fila"
   ]
  },
  {
   "cell_type": "code",
   "execution_count": 7,
   "id": "389bf259-ee81-410f-b277-56733bcf9a4f",
   "metadata": {},
   "outputs": [
    {
     "name": "stdin",
     "output_type": "stream",
     "text": [
      "Introduce un número entero:  6\n"
     ]
    },
    {
     "name": "stdout",
     "output_type": "stream",
     "text": [
      "Números impares desde 1 hasta 6:\n",
      "1\n",
      "3\n",
      "5\n"
     ]
    }
   ],
   "source": [
    "def ej6():\n",
    "  # Pide al usuario un int\n",
    "  while True:\n",
    "    try:\n",
    "      n_str = input(\"Introduce un número entero: \")\n",
    "      n = int(n_str)\n",
    "      if n <= 0:\n",
    "        print(\"Error: Por favor, introduce un número entero mayor a 0.\")\n",
    "      else:\n",
    "        break # Sale del bucle si la entrada es válida\n",
    "    except ValueError:\n",
    "      print(\"Error: Por favor, introduce un número entero válido.\")\n",
    "\n",
    "  # Muestra los números impares desde 1 hasta n\n",
    "  print(f\"Números impares desde 1 hasta {n}:\")\n",
    "  for i in range(1, n + 1, 2):\n",
    "    print(i)\n",
    "\n",
    "# Llamar a la función para ejecutar el programa\n",
    "ej6()"
   ]
  },
  {
   "cell_type": "markdown",
   "id": "6ea2f029-8e33-4055-9a57-ea407d50b958",
   "metadata": {},
   "source": [
    "## Ejercicio 7\n",
    "\n",
    "Escribir un programa que muestre el eco de todo lo que el usuario introduzca hasta que el usuario escriba “salir” que terminará."
   ]
  },
  {
   "cell_type": "code",
   "execution_count": 8,
   "id": "3e59fb5b-4033-4c5e-867f-1543a447dfa8",
   "metadata": {},
   "outputs": [
    {
     "name": "stdin",
     "output_type": "stream",
     "text": [
      "Introduce algo (o 'salir' para terminar):  salir\n"
     ]
    },
    {
     "name": "stdout",
     "output_type": "stream",
     "text": [
      "¡Hasta luego!\n"
     ]
    }
   ],
   "source": [
    "def ej7():\n",
    "  # Muestra el eco de la entrada del usuario hasta que escriba \"salir\"\n",
    "  while True:\n",
    "    entrada = input(\"Introduce algo (o 'salir' para terminar): \")\n",
    "    if entrada.lower() == \"salir\":\n",
    "      print(\"¡Hasta luego!\")\n",
    "      break # Sale del bucle cuando el usuario escribe \"salir\"\n",
    "    else:\n",
    "      print(f\"Eco: {entrada}\")\n",
    "\n",
    "# Llamar a la función para ejecutar el programa\n",
    "ej7()"
   ]
  },
  {
   "cell_type": "markdown",
   "id": "376b0a32-e91e-41dd-bfc2-ae7a67f1378b",
   "metadata": {},
   "source": [
    "## Ejercicio 8\n",
    "\n",
    "Escribe una función que acepte productos de supermercado introducidos por teclado y los guarde en una lista. La lista terminará cuando se introduzca \"salir\".\n",
    "\n",
    "Por último muestra por pantalla los productos de la lista, uno por línea."
   ]
  },
  {
   "cell_type": "code",
   "execution_count": 13,
   "id": "b59de3de-2047-4f36-9bff-cc802edcec84",
   "metadata": {},
   "outputs": [
    {
     "name": "stdin",
     "output_type": "stream",
     "text": [
      "Introduce un producto (o 'salir' para terminar):  patatas\n",
      "Introduce un producto (o 'salir' para terminar):  leche\n",
      "Introduce un producto (o 'salir' para terminar):  agua\n",
      "Introduce un producto (o 'salir' para terminar):  salir\n"
     ]
    },
    {
     "name": "stdout",
     "output_type": "stream",
     "text": [
      "Lista de productos del supermercado:\n",
      "patatas\n",
      "leche\n",
      "agua\n"
     ]
    }
   ],
   "source": [
    "def ej8():\n",
    "  # Inicializa una lista vacía para guardar los productos\n",
    "  productos = []\n",
    "  \n",
    "  # Pide al usuario que introduzca productos hasta que escriba \"salir\"\n",
    "  while True:\n",
    "    producto = input(\"Introduce un producto (o 'salir' para terminar): \")\n",
    "    if producto.lower() == \"salir\":\n",
    "      break # Sale del bucle cuando el usuario escribe \"salir\"\n",
    "    else:\n",
    "      productos.append(producto) # Añade el producto a la lista.\n",
    "      \n",
    "  # Muestra los productos de la lista, uno por línea\n",
    "  if productos: # Comprueba si la lista no está vacía\n",
    "    print(\"Lista de productos del supermercado:\")\n",
    "    for item in productos:\n",
    "      print(item)\n",
    "  else:\n",
    "    print(\"No se introdujeron productos.\")\n",
    "\n",
    "# Llama a la función para ejecutar el programa\n",
    "ej8()"
   ]
  },
  {
   "cell_type": "markdown",
   "id": "6c104188-fe33-45d0-b31e-7247111c319b",
   "metadata": {},
   "source": [
    "## Ejercicio 9\n",
    "\n",
    "Los tramos impositivos para la declaración de la renta en un determinado país son los siguientes:\n",
    "\n",
    "**Renta\t     Tipo impositivo**\n",
    "\n",
    "Menos de 10000€:\t     5%\n",
    "\n",
    "Entre 10000€ y 20000€:\t     15%\n",
    "\n",
    "Entre 20000€ y 35000€:\t     20%\n",
    "\n",
    "Entre 35000€ y 60000€:\t     30%\n",
    "\n",
    "Más de 60000€:\t     45%\n",
    "\n",
    "\n",
    "Escribir una función que pida como entrada la renta anual del usuario y DEVUELVA el tipo impositivo que le corresponde."
   ]
  },
  {
   "cell_type": "code",
   "execution_count": 12,
   "id": "259a51ba-4284-47a5-853b-9a96d8bb6eeb",
   "metadata": {},
   "outputs": [
    {
     "name": "stdin",
     "output_type": "stream",
     "text": [
      "Introduce tu renta anual en euros:  85000\n"
     ]
    },
    {
     "name": "stdout",
     "output_type": "stream",
     "text": [
      "Para una renta de 85000.00€, el tipo impositivo aplicable es del 45%.\n"
     ]
    }
   ],
   "source": [
    "def calcular_tipo_impositivo(renta):\n",
    "  # Calcula el tipo impositivo según la renta anual\n",
    "  if renta < 10000:\n",
    "    tipo_impositivo = 5 \n",
    "  elif 10000 <= renta < 20000:\n",
    "    tipo_impositivo = 15 \n",
    "  elif 20000 <= renta < 35000:\n",
    "    tipo_impositivo = 20 \n",
    "  elif 35000 <= renta < 60000:\n",
    "    tipo_impositivo = 30 \n",
    "  else: # renta >= 60000\n",
    "    tipo_impositivo = 45\n",
    "  return tipo_impositivo\n",
    "\n",
    "# Hacemos uso de la función e imprimimos la renta junto al tipo impositivo\n",
    "renta_anual = float(input(\"Introduce tu renta anual en euros: \"))\n",
    "tipo = calcular_tipo_impositivo(renta_anual)\n",
    "print(f\"Para una renta de {renta_anual:.2f}€, el tipo impositivo aplicable es del {tipo}%.\")"
   ]
  },
  {
   "cell_type": "markdown",
   "id": "f6965345-a9b6-4161-9cf7-67507556baf3",
   "metadata": {},
   "source": [
    "## Ejercicio 10\n",
    "\n",
    "Con la misma tabla del ejercicio anterior:\n",
    "\n",
    "a) Crea un diccionario cuyas claves sean \"Tramo1\", \"Tramo2\", \"Tramo3\" ... etc. El valor será el tipo impositivo (solo él número)\n",
    "\n",
    "b) Crea una función al que le pases el diccionario anterior y el tramo como cadena (mismo formato que las claves del diccionario). La función ha de devolver el tipo impositivo correspondiente del tramo."
   ]
  },
  {
   "cell_type": "code",
   "execution_count": 21,
   "id": "8f19a47a-da6b-4bab-a37b-cf1058e1652e",
   "metadata": {},
   "outputs": [
    {
     "name": "stdin",
     "output_type": "stream",
     "text": [
      "Introduce el tramo impositivo:  tramo2\n"
     ]
    },
    {
     "name": "stdout",
     "output_type": "stream",
     "text": [
      "El tipo impositivo para el tramo 'tramo2' es del 15%.\n"
     ]
    }
   ],
   "source": [
    "# Creamos el diccionario de tramos impositivos \n",
    "tramos_impositivos = {\n",
    "    \"tramo1\": 5,\n",
    "    \"tramo2\": 15,\n",
    "    \"tramo3\": 20,\n",
    "    \"tramo4\": 30,\n",
    "    \"tramo5\": 45\n",
    "}\n",
    "\n",
    "# Creamos la función para obtener el tipo impositivo por tramo\n",
    "def obtener_tipo_impositivo(diccionario_tramos, tramo):\n",
    "  # Devuelve el tipo impositivo correspondiente al tramo proporcionado\n",
    "  tramo_lower = tramo.lower() # Convertimos el tramo de entrada a minúsculas\n",
    "  if tramo_lower in diccionario_tramos:\n",
    "    return diccionario_tramos[tramo_lower]\n",
    "  else:\n",
    "    return None # Si no corresponde a ningún tramo, devuelve null\n",
    "\n",
    "# Hacemos uso de la función e imprimimos el tipo impositivo junto su porcentaje\n",
    "tramo_seleccionado = input(\"Introduce el tramo impositivo: \")\n",
    "tipo = obtener_tipo_impositivo(tramos_impositivos, tramo_seleccionado)\n",
    "\n",
    "if tipo is not None:\n",
    "  print(f\"El tipo impositivo para el tramo '{tramo_seleccionado}' es del {tipo}%.\")\n",
    "else:\n",
    "  print(f\"El tramo '{tramo_seleccionado}' no existe en el diccionario.\")"
   ]
  },
  {
   "cell_type": "code",
   "execution_count": null,
   "id": "d459b9d1-2479-444c-8f90-17a1e492e440",
   "metadata": {},
   "outputs": [],
   "source": []
  }
 ],
 "metadata": {
  "kernelspec": {
   "display_name": "Python 3 (ipykernel)",
   "language": "python",
   "name": "python3"
  },
  "language_info": {
   "codemirror_mode": {
    "name": "ipython",
    "version": 3
   },
   "file_extension": ".py",
   "mimetype": "text/x-python",
   "name": "python",
   "nbconvert_exporter": "python",
   "pygments_lexer": "ipython3",
   "version": "3.12.7"
  }
 },
 "nbformat": 4,
 "nbformat_minor": 5
}
